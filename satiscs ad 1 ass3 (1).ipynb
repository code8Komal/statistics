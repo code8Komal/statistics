{
 "cells": [
  {
   "cell_type": "markdown",
   "id": "593bfef2-65d4-481d-b691-6c95fc32ed5a",
   "metadata": {},
   "source": [
    "## Q1: What is Estimation Statistics? Explain point estimate and interval estimate."
   ]
  },
  {
   "cell_type": "markdown",
   "id": "5bc90cd2-fe8f-4933-a0d6-8f4aed89f0c8",
   "metadata": {},
   "source": [
    "Estimation statistics is a branch of statistics that deals with making educated guesses or estimates about population parameters based on information gathered from a sample. Estimation is a fundamental aspect of inferential statistics, where you use data from a sample to draw conclusions or make inferences about a larger population."
   ]
  },
  {
   "cell_type": "markdown",
   "id": "bbe8c45a-518c-4a1d-8cd6-e0e7278f1695",
   "metadata": {},
   "source": [
    "## Point Estimate:\n",
    "### A point estimate is a single, specific value that is used to approximate the true, unknown population parameter. It's essentially an educated guess based on the sample data. For example, if you want to estimate the average height of all people in a city and you take a sample of 100 people, the sample mean (average height of the 100 people) would be a point estimate for the population mean. Point estimates are simple and easy to calculate, but they may not always be very accurate, as they don't account for the variability in the data"
   ]
  },
  {
   "cell_type": "markdown",
   "id": "6b01a890-f70c-4d2e-983d-862392c85ae5",
   "metadata": {},
   "source": [
    "## Interval Estimate:\n",
    "### An interval estimate is a range of values within which the population parameter is likely to fall, along with a level of confidence associated with that range. It provides a more informative and realistic estimate of the parameter compared to a single point estimate. The most common form of an interval estimate is a confidence interval. When constructing a confidence interval, you specify a confidence level (e.g., 95%) and use statistical methods to calculate the lower and upper bounds of the interval. For example, you might estimate the average height of people in a city to be between 160 cm and 170 cm with 95% confidence. This means that you are 95% confident that the true population average falls within that range."
   ]
  },
  {
   "cell_type": "markdown",
   "id": "8e608b4f-f0b7-46fe-a02e-c2aa5ea6418a",
   "metadata": {},
   "source": [
    "estimation statistics involves making educated guesses about population parameters, and there are two main types of estimates: point estimates, which are single values used to approximate the parameter, and interval estimates, which provide a range of values with associated confidence levels to indicate the likely location of the parameter. Interval estimates are generally considered more informative and accurate than point estimates because they account for uncertainty and variability in the data.\n",
    "\n",
    "\n",
    "\n",
    "\n"
   ]
  },
  {
   "cell_type": "markdown",
   "id": "b7077592-3c2b-486b-b822-2615c47fcd70",
   "metadata": {},
   "source": [
    "## Q2. Write a Python function to estimate the population mean using a sample mean and standard deviation."
   ]
  },
  {
   "cell_type": "code",
   "execution_count": 2,
   "id": "de1fd6aa-e046-4567-9125-fa65a7fde52e",
   "metadata": {},
   "outputs": [
    {
     "name": "stdout",
     "output_type": "stream",
     "text": [
      "Estimated population mean (μ) with 95% confidence interval: (51.95996398454005, 48.04003601545995)\n"
     ]
    }
   ],
   "source": [
    "import scipy.stats as stats\n",
    "import math\n",
    "\n",
    "def estimate_population_mean(sample_mean, sample_std, sample_size, confidence_level):\n",
    "    # Calculate the critical value (z) for the desired confidence level\n",
    "    z = stats.norm.ppf( (1 - confidence_level) / 2)\n",
    "\n",
    "    # Calculate the margin of error (MOE)\n",
    "    moe = z * (sample_std / math.sqrt(sample_size))\n",
    "\n",
    "    # Calculate the lower and upper bounds of the confidence interval\n",
    "    lower_bound = sample_mean - moe\n",
    "    upper_bound = sample_mean + moe\n",
    "\n",
    "    return (lower_bound, upper_bound)\n",
    "\n",
    "# Example usage:\n",
    "sample_mean = 50  # Sample mean\n",
    "sample_std = 10  # Sample standard deviation\n",
    "sample_size = 100  # Sample size\n",
    "confidence_level = 0.95  # Desired confidence level (e.g., 95%)\n",
    "\n",
    "# Estimate the population mean with a 95% confidence interval\n",
    "confidence_interval = estimate_population_mean(sample_mean, sample_std, sample_size, confidence_level)\n",
    "print(\"Estimated population mean (μ) with 95% confidence interval:\", confidence_interval)"
   ]
  },
  {
   "cell_type": "code",
   "execution_count": null,
   "id": "4422330a-deea-4a89-9d4f-03a233d97e0c",
   "metadata": {},
   "outputs": [],
   "source": [
    "The expression (1 - (1 - confidence_level) / 2) is used to calculate the critical value (z) for a two-tailed confidence interval in a normal distribution. Let's break down why this formula is used:\n",
    "\n",
    "Confidence Level (e.g., 95%): The confidence level (e.g., 95%) represents the probability that the population parameter (in this case, the population mean) falls within a certain range (the confidence interval). For a two-tailed confidence interval, the probability is split into two tails: one in the lower tail and one in the upper tail.\n",
    "\n",
    "Splitting the Probability: To create a symmetric two-tailed interval, you want to allocate half of the confidence level to the lower tail and half to the upper tail. In a standard normal distribution (z-distribution), each tail represents a certain percentage of the distribution's area.\n",
    "\n",
    "The z-Score: The critical value (z) is the z-score that corresponds to the cumulative probability of the upper tail. To find the z-score, you look up the area under the standard normal distribution curve that corresponds to the desired confidence level. This area represents the probability in the upper tail.\n",
    "\n",
    "Inverse of Cumulative Distribution Function (CDF): The expression (1 - (1 - confidence_level) / 2) is a way to find the z-score using the inverse of the cumulative distribution function (CDF) of the standard normal distribution. The norm.ppf() function in libraries like scipy.stats provides the inverse CDF and returns the z-score corresponding to the desired cumulative probability.\n",
    "\n",
    "Here's a step-by-step breakdown:\n",
    "\n",
    "(1 - confidence_level): This subtracts the confidence level from 1 to find the probability in the tails. For a 95% confidence level, this calculates the probability in the tails as 5% (2.5% in the lower tail and 2.5% in the upper tail).\n",
    "\n",
    "((1 - confidence_level) / 2): This divides the probability in the tails by 2, so you have 2.5% in each tail.\n",
    "\n",
    "1 - ((1 - confidence_level) / 2): This subtracts the probability in the upper tail from 1, giving you the cumulative probability for the upper tail, which is half of the confidence level (e.g., 2.5% for a 95% confidence level).\n",
    "\n",
    "Finally, the norm.ppf() function or a similar function is used to find the z-score corresponding to this cumulative probability, which is used to calculate the critical value.\n",
    "\n",
    "In summary, the expression (1 - (1 - confidence_level) / 2) is a way to allocate the desired confidence level equally between the upper and lower tails and find the critical value for a two-tailed confidence interval in a standard normal distribution."
   ]
  },
  {
   "cell_type": "markdown",
   "id": "e7fd201d-dbf5-47cd-ae3d-c135c303a64e",
   "metadata": {},
   "source": [
    "## Q3: What is Hypothesis testing? Why is it used? State the importance of Hypothesis testing."
   ]
  },
  {
   "cell_type": "markdown",
   "id": "9e711c40-aa7f-4e2f-a16c-082d06c350fd",
   "metadata": {},
   "source": [
    "### Hypothesis testing is a fundamental concept in statistics used to make decisions or inferences about population parameters based on sample data. It's a systematic method for evaluating claims or hypotheses about a population. Hypothesis testing is used to determine whether there is enough evidence in the sample data to support or reject a specific hypothesis about a population parameter, such as a population mean, proportion, variance, etc."
   ]
  },
  {
   "cell_type": "markdown",
   "id": "cb9c42bd-afc5-477e-97cf-7f98670f5cde",
   "metadata": {},
   "source": [
    "##### The process of hypothesis testing typically involves the following steps:\n",
    "\n",
    "## Formulating Hypotheses:\n",
    "\n",
    "### Null Hypothesis (H0): This is a statement of no effect or no difference. It represents the status quo or the default assumption. It is what you are testing against.\n",
    "\n",
    "### Alternative Hypothesis (Ha or H1): This is a statement that represents a specific claim or effect that you want to test.\n",
    "Collecting Data: You collect a sample from the population of interest.\n",
    "\n",
    "## Analyzing Data: \n",
    "You use statistical methods to calculate a test statistic based on the sample data. The test statistic helps you assess the compatibility between the data and the null hypothesis.\n",
    "\n",
    "## Determining a Significance Level (Alpha): \n",
    "You choose a significance level (α), which is the probability of making a Type I error (incorrectly rejecting a true null hypothesis). Common significance levels are 0.05 (5%) or 0.01 (1%).\n",
    "\n",
    "## Making a Decision:\n",
    "\n",
    "If the p-value (the probability of obtaining results as extreme as those observed, assuming the null hypothesis is true) is less than or equal to α, you reject the null hypothesis in favor of the alternative hypothesis.\n",
    "If the p-value is greater than α, you fail to reject the null hypothesis. This doesn't prove the null hypothesis is true; it simply means you lack strong evidence to reject it."
   ]
  },
  {
   "cell_type": "markdown",
   "id": "a0900c7f-7b10-4db6-81a8-601b97718381",
   "metadata": {},
   "source": [
    "Hypothesis testing is crucial in the following ways:\n",
    "\n",
    "## Scientific Decision Making: \n",
    "It helps researchers and scientists make informed decisions about the validity of their theories or hypotheses based on empirical evidence.\n",
    "\n",
    "## Quality Control: \n",
    "In industries and manufacturing, hypothesis testing is used to ensure the quality and consistency of products by checking if they meet certain standards or specifications.\n",
    "\n",
    "## Medicine and Healthcare:\n",
    "Hypothesis testing is used to evaluate the effectiveness of new drugs, treatments, or medical procedures to ensure they have the desired impact.\n",
    "\n",
    "## Business Decision-Making:\n",
    "In business and economics, it's used to assess the impact of marketing strategies, product development, and other decisions.\n",
    "\n",
    "## Legal and Social Sciences:\n",
    "It's used to draw conclusions in legal cases, assess the impact of public policies, and analyze social science data.\n",
    "\n",
    "## Academic Research:\n",
    "Researchers across various fields use hypothesis testing to test their theories and publish their findings."
   ]
  },
  {
   "cell_type": "markdown",
   "id": "ba9a4856-b288-4207-8900-9b75967bac63",
   "metadata": {},
   "source": [
    "In summary, hypothesis testing is a fundamental statistical tool that helps in making evidence-based decisions, drawing conclusions, and advancing knowledge in various fields. It provides a structured framework for assessing the validity of claims and hypotheses using data and statistical analysis, contributing to the scientific method and informed decision-making"
   ]
  },
  {
   "cell_type": "markdown",
   "id": "3828821b-d4b4-481f-9b53-a2a6f130101a",
   "metadata": {},
   "source": [
    "## Q4. Create a hypothesis that states whether the average weight of male college students is greater than the average weight of female college students."
   ]
  },
  {
   "cell_type": "markdown",
   "id": "d2199846-78ec-4fcb-86aa-a752484fea3b",
   "metadata": {},
   "source": [
    "To create a hypothesis that states whether the average weight of male college students is greater than the average weight of female college students, you can formulate a null hypothesis (H0) and an alternative hypothesis (Ha or H1). In this case, you want to test if there's evidence to suggest that male college students, on average, weigh more than female college students. Here's how you can structure the hypotheses:\n",
    "\n",
    "## Null Hypothesis (H0): The average weight of male college students is equal to or less than the average weight of female college students.\n",
    "\n",
    "## Alternative Hypothesis (Ha or H1): The average weight of male college students is greater than the average weight of female college students.\n",
    "\n",
    "In statistical notation, it would look like this:\n",
    "\n",
    "## H0: μ_male ≤ μ_female\n",
    "## Ha: μ_male > μ_female\n",
    "\n",
    "Where:\n",
    "\n",
    "H0 represents the null hypothesis.\n",
    "Ha represents the alternative hypothesis.\n",
    "μ_male represents the population mean weight of male college students.\n",
    "μ_female represents the population mean weight of female college students."
   ]
  },
  {
   "cell_type": "markdown",
   "id": "79274780-0a39-467b-9950-98873a663ae6",
   "metadata": {},
   "source": [
    "Now, you can use sample data and statistical tests to determine whether there is enough evidence to reject the null hypothesis in favor of the alternative hypothesis. This would involve collecting weight data from both male and female college students, calculating sample means, and performing a hypothesis test, such as a t-test or z-test, to make an inference about whether the average weight of male students is significantly greater than that of female students"
   ]
  },
  {
   "cell_type": "markdown",
   "id": "8b2e46ef-2727-44d6-a34a-87aab9b4b430",
   "metadata": {},
   "source": [
    "## Q5. Write a Python script to conduct a hypothesis test on the difference between two population means,given a sample from each population."
   ]
  },
  {
   "cell_type": "code",
   "execution_count": 3,
   "id": "3f61511c-646e-4f5c-bb75-c9fd38ac3d47",
   "metadata": {},
   "outputs": [
    {
     "name": "stdout",
     "output_type": "stream",
     "text": [
      "Reject the null hypothesis\n",
      "T-statistic: 6.622110614697441\n",
      "P-value: 6.0372191201165885e-06\n"
     ]
    }
   ],
   "source": [
    "import scipy.stats as stats\n",
    "\n",
    "# Sample data from the two populations\n",
    "sample1 = [85, 89, 90, 84, 87, 88, 91, 86, 83, 88]\n",
    "sample2 = [78, 79, 80, 82, 81, 84, 80, 82, 80, 79]\n",
    "\n",
    "# Define the significance level (alpha)\n",
    "alpha = 0.05\n",
    "\n",
    "# Perform a two-sample t-test (assuming unequal variances)\n",
    "t_stat, p_value = stats.ttest_ind(sample1, sample2, equal_var=False)\n",
    "\n",
    "# Determine whether to reject the null hypothesis\n",
    "if p_value < alpha:\n",
    "    print(\"Reject the null hypothesis\")\n",
    "else:\n",
    "    print(\"Fail to reject the null hypothesis\")\n",
    "\n",
    "# Print the t-statistic and p-value\n",
    "print(\"T-statistic:\", t_stat)\n",
    "print(\"P-value:\", p_value)\n",
    "\n"
   ]
  },
  {
   "cell_type": "code",
   "execution_count": null,
   "id": "103e6a16-a3a8-4629-8bc8-28e9a3d4c3f6",
   "metadata": {},
   "outputs": [],
   "source": [
    "In this script:\n",
    "\n",
    "You have two sample datasets, sample1 and sample2, which represent samples from the two populations you want to compare.\n",
    "\n",
    "You specify a significance level (alpha), which is typically set at 0.05 or another desired level.\n",
    "\n",
    "The ttest_ind function from the scipy.stats library is used to perform a two-sample t-test. The equal_var=False argument assumes that the variances of the two populations are not equal.\n",
    "\n",
    "The resulting t-statistic and p-value are calculated.\n",
    "\n",
    "You determine whether to reject the null hypothesis based on the p-value. If the p-value is less than the significance level (alpha), you reject the null hypothesis.\n",
    "\n",
    "This script provides a basic example of how to conduct a two-sample t-test to compare the means of two populations. You can replace the sample data with your own data and adjust the significance level as needed for your specific hypothesis test."
   ]
  },
  {
   "cell_type": "markdown",
   "id": "0df06299-9f08-411d-a64d-e4377d55f8e4",
   "metadata": {},
   "source": [
    "## Q6.What is a null and alternative hypothesis? Give some examples."
   ]
  },
  {
   "cell_type": "markdown",
   "id": "43ce37ee-7c0b-4f63-9be7-872f63507b66",
   "metadata": {},
   "source": [
    "#### In hypothesis testing, the null hypothesis (H0) and the alternative hypothesis (Ha or H1) are essential components that help define the scope of a statistical test. They represent competing statements about a population parameter or a phenomenon you want to investigate. The null hypothesis is typically a statement of no effect or no difference, while the alternative hypothesis represents a specific claim or effect that you want to test.\n",
    "\n"
   ]
  },
  {
   "cell_type": "markdown",
   "id": "6d27fab4-070e-42c1-857a-cc5749ff5168",
   "metadata": {},
   "source": [
    "Here are some examples of null and alternative hypotheses in various contexts:\n",
    "\n",
    "## Example 1: Medical Research\n",
    "\n",
    "#### Null Hypothesis (H0): The new drug has no effect on reducing blood pressure.\n",
    "### Alternative Hypothesis (Ha): The new drug reduces blood pressure in patients.\n",
    "\n",
    "## Example 2: Manufacturing Quality Control\n",
    "\n",
    "#### Null Hypothesis (H0): The mean diameter of manufactured ball bearings is 5.0 mm.\n",
    "### Alternative Hypothesis (Ha): The mean diameter of manufactured ball bearings is not 5.0 mm.\n",
    "\n",
    "## Example 3: Market Research\n",
    "\n",
    "#### Null Hypothesis (H0): The average customer satisfaction rating for a product is 4.0 on a 5-point scale.\n",
    "#### Alternative Hypothesis (Ha): The average customer satisfaction rating for a product is greater than 4.0 on a 5-point scale.\n",
    "\n",
    "## Example 4: Education\n",
    "\n",
    "#### Null Hypothesis (H0): The new teaching method does not improve student test scores.\n",
    "#### Alternative Hypothesis (Ha): The new teaching method improves student test scores.\n",
    "\n",
    "## Example 5: Legal Proceedings\n",
    "\n",
    "#### Null Hypothesis (H0): The defendant is not guilty.\n",
    "#### Alternative Hypothesis (Ha): The defendant is guilty.\n",
    "\n",
    "## Example 6: Environmental Science\n",
    "\n",
    "#### Null Hypothesis (H0): The pollution levels in a city are within acceptable limits.\n",
    "#### Alternative Hypothesis (Ha): The pollution levels in a city exceed acceptable limits.\n",
    "\n",
    "## Example 7: Gender Equality\n",
    "\n",
    "#### Null Hypothesis (H0): There is no gender wage gap in a specific industry.\n",
    "#### Alternative Hypothesis (Ha): There is a gender wage gap in a specific industry.\n"
   ]
  },
  {
   "cell_type": "markdown",
   "id": "2175f526-08dc-453f-9503-5d6c196486e0",
   "metadata": {},
   "source": [
    "##### In each of these examples, the null hypothesis represents a default or status quo assumption, while the alternative hypothesis represents a specific claim or effect that you want to test. The purpose of hypothesis testing is to determine whether the sample data provides enough evidence to reject the null hypothesis in favor of the alternative hypothesis. The choice of null and alternative hypotheses depends on the research question and the specific hypothesis being tested"
   ]
  },
  {
   "cell_type": "markdown",
   "id": "b02357fc-1aaa-4516-b265-ac749edac896",
   "metadata": {},
   "source": [
    "## Q7: Write down the steps involved in hypothesis testing."
   ]
  },
  {
   "cell_type": "markdown",
   "id": "01e85236-727e-4c26-949f-742f63838e13",
   "metadata": {},
   "source": [
    "Hypothesis testing is a structured process used in statistics to make decisions or draw inferences about population parameters based on sample data. The steps involved in hypothesis testing are as follows:"
   ]
  },
  {
   "cell_type": "markdown",
   "id": "cb72008b-47dc-4df3-97cb-f2d4b56d9990",
   "metadata": {},
   "source": [
    "Formulate Hypotheses:\n",
    "\n",
    "## Null Hypothesis (H0): \n",
    "This is the default or status quo hypothesis. It typically states that there is no effect, no difference, or no relationship.\n",
    "Alternative Hypothesis (Ha or H1): This is the specific claim or effect you want to test. It contradicts the null hypothesis and represents what you're trying to prove or demonstrate.\n",
    "\n",
    "##Collect Data:\n",
    "\n",
    "Collect a sample from the population of interest. The quality and size of the sample are crucial to the accuracy of the hypothesis test.\n",
    "\n",
    "## Choose a Significance Level (α):\n",
    "\n",
    "Significance level (α) represents the probability of making a Type I error (rejecting a true null hypothesis). Common values are 0.05 (5%) or 0.01 (1%), but it can vary depending on the study.\n",
    "\n",
    "## Perform a Statistical Test:\n",
    "\n",
    "Select an appropriate statistical test based on the data type and research question. Common tests include t-tests, z-tests, chi-squared tests, and ANOVA, among others.\n",
    "\n",
    "## Calculate the Test Statistic:\n",
    "\n",
    "Calculate the test statistic based on the sample data and the chosen statistical test. The test statistic measures how far the sample data deviates from what is expected under the null hypothesis.\n",
    "\n",
    "## Determine the P-Value:\n",
    "\n",
    "Calculate the p-value, which represents the probability of obtaining results as extreme as the ones observed, assuming the null hypothesis is true. A smaller p-value suggests stronger evidence against the null hypothesis.\n",
    "\n",
    "## Compare P-Value to α:\n",
    "\n",
    "If the p-value is less than or equal to the chosen significance level (α), reject the null hypothesis. This indicates that there is enough evidence to support the alternative hypothesis.\n",
    "If the p-value is greater than α, fail to reject the null hypothesis. This means there is not enough evidence to support the alternative hypothesis.\n",
    "\n",
    "## Make a Decision:\n",
    "\n",
    "Based on the comparison of the p-value to α, you decide whether to reject the null hypothesis or fail to reject it. Your conclusion should be based on the evidence provided by the data.\n",
    "\n",
    "## Draw a Conclusion:\n",
    "\n",
    "Summarize the results and make a conclusion about whether there is evidence to support the alternative hypothesis or not.\n",
    "## Communicate Results:\n",
    "\n",
    "Share your findings, including the conclusion and the level of statistical significance, with others, such as peers, stakeholders, or the public."
   ]
  },
  {
   "cell_type": "markdown",
   "id": "0bb60ede-73f6-4953-800b-d7340a6cb5d5",
   "metadata": {},
   "source": [
    "These steps provide a systematic and structured approach to hypothesis testing, helping researchers and decision-makers draw meaningful conclusions from their data while controlling the risk of making incorrect decisions."
   ]
  },
  {
   "cell_type": "markdown",
   "id": "a1e369e3-0fae-4a4b-812f-22c7c1c42a5c",
   "metadata": {},
   "source": [
    "## Q8. Define p-value and explain its significance in hypothesis testing."
   ]
  },
  {
   "cell_type": "markdown",
   "id": "7185ff48-abc4-4f14-b47a-756136b84a50",
   "metadata": {},
   "source": [
    "A p-value, or probability value, is a statistical measure used in hypothesis testing to help determine the strength of evidence against the null hypothesis. It quantifies the probability of observing a test statistic as extreme as, or more extreme than, the one calculated from sample data, assuming the null hypothesis is true. In other words, the p-value indicates how likely the observed data is under the null hypothesis."
   ]
  },
  {
   "cell_type": "markdown",
   "id": "3c81b384-09a7-4e3e-9f36-a88b154d8bb3",
   "metadata": {},
   "source": [
    "### Here's the significance of p-values in hypothesis testing:\n",
    "\n",
    "## Decision Making: \n",
    "#### In hypothesis testing, the p-value is used to make decisions about whether to accept or reject the null hypothesis. Typically, if the p-value is less than a pre-specified significance level (alpha), you reject the null hypothesis. If the p-value is greater than alpha, you fail to reject the null hypothesis.\n",
    "\n",
    "## Quantifies Evidence:\n",
    "#### The p-value provides a quantitative measure of the strength of evidence against the null hypothesis. A small p-value (usually less than alpha) suggests strong evidence against the null hypothesis, while a large p-value suggests weaker evidence.\n",
    "\n",
    "## Control of Type I Error: \n",
    "#### The choice of alpha (significance level) helps control the probability of making a Type I error (false positive) in hypothesis testing. For example, if you set alpha to 0.05, you are willing to accept a 5% chance of making a Type I error.\n",
    "\n",
    "## Assessment of Statistical Significance:\n",
    "#### P-values allow you to assess whether the observed effect in your sample is statistically significant. A small p-value indicates that the observed difference or effect is unlikely to have occurred due to random chance.\n",
    "\n",
    "##Comparing Hypotheses:\n",
    "#### You can use p-values to compare the strength of evidence against different hypotheses. For example, if you have two competing hypotheses, you can compare their respective p-values to determine which is better supported by the data.\n",
    "\n",
    "## Adjusting for Multiple Testing: \n",
    "#### In cases where you are conducting multiple hypothesis tests simultaneously (e.g., in genomics or clinical trials), the p-value can be adjusted to account for the increased chance of Type I errors due to multiple comparisons (e.g., Bonferroni correction)."
   ]
  },
  {
   "cell_type": "markdown",
   "id": "0a1cefb5-0221-4be2-9179-9579644ba796",
   "metadata": {},
   "source": [
    "## Q9. Generate a Student's t-distribution plot using Python's matplotlib library, with the degrees of freedom parameter set to 10."
   ]
  },
  {
   "cell_type": "code",
   "execution_count": 9,
   "id": "d3e9b79f-b897-4332-9229-b32dde4f29ae",
   "metadata": {},
   "outputs": [],
   "source": [
    "import numpy as np\n",
    "import matplotlib.pyplot as plt\n",
    "from scipy.stats import t\n",
    "\n",
    "# Set the degrees of freedom\n",
    "df = 10\n",
    "\n",
    "#generate a range of x values \n"
   ]
  },
  {
   "cell_type": "code",
   "execution_count": 22,
   "id": "e1f3c974-43f2-4a17-ac13-038daaee4107",
   "metadata": {},
   "outputs": [
    {
     "data": {
      "text/plain": [
       "array([-5.        , -4.98998999, -4.97997998, -4.96996997, -4.95995996,\n",
       "       -4.94994995, -4.93993994, -4.92992993, -4.91991992, -4.90990991,\n",
       "       -4.8998999 , -4.88988989, -4.87987988, -4.86986987, -4.85985986,\n",
       "       -4.84984985, -4.83983984, -4.82982983, -4.81981982, -4.80980981,\n",
       "       -4.7997998 , -4.78978979, -4.77977978, -4.76976977, -4.75975976,\n",
       "       -4.74974975, -4.73973974, -4.72972973, -4.71971972, -4.70970971,\n",
       "       -4.6996997 , -4.68968969, -4.67967968, -4.66966967, -4.65965966,\n",
       "       -4.64964965, -4.63963964, -4.62962963, -4.61961962, -4.60960961,\n",
       "       -4.5995996 , -4.58958959, -4.57957958, -4.56956957, -4.55955956,\n",
       "       -4.54954955, -4.53953954, -4.52952953, -4.51951952, -4.50950951,\n",
       "       -4.4994995 , -4.48948949, -4.47947948, -4.46946947, -4.45945946,\n",
       "       -4.44944945, -4.43943944, -4.42942943, -4.41941942, -4.40940941,\n",
       "       -4.3993994 , -4.38938939, -4.37937938, -4.36936937, -4.35935936,\n",
       "       -4.34934935, -4.33933934, -4.32932933, -4.31931932, -4.30930931,\n",
       "       -4.2992993 , -4.28928929, -4.27927928, -4.26926927, -4.25925926,\n",
       "       -4.24924925, -4.23923924, -4.22922923, -4.21921922, -4.20920921,\n",
       "       -4.1991992 , -4.18918919, -4.17917918, -4.16916917, -4.15915916,\n",
       "       -4.14914915, -4.13913914, -4.12912913, -4.11911912, -4.10910911,\n",
       "       -4.0990991 , -4.08908909, -4.07907908, -4.06906907, -4.05905906,\n",
       "       -4.04904905, -4.03903904, -4.02902903, -4.01901902, -4.00900901,\n",
       "       -3.998999  , -3.98898899, -3.97897898, -3.96896897, -3.95895896,\n",
       "       -3.94894895, -3.93893894, -3.92892893, -3.91891892, -3.90890891,\n",
       "       -3.8988989 , -3.88888889, -3.87887888, -3.86886887, -3.85885886,\n",
       "       -3.84884885, -3.83883884, -3.82882883, -3.81881882, -3.80880881,\n",
       "       -3.7987988 , -3.78878879, -3.77877878, -3.76876877, -3.75875876,\n",
       "       -3.74874875, -3.73873874, -3.72872873, -3.71871872, -3.70870871,\n",
       "       -3.6986987 , -3.68868869, -3.67867868, -3.66866867, -3.65865866,\n",
       "       -3.64864865, -3.63863864, -3.62862863, -3.61861862, -3.60860861,\n",
       "       -3.5985986 , -3.58858859, -3.57857858, -3.56856857, -3.55855856,\n",
       "       -3.54854855, -3.53853854, -3.52852853, -3.51851852, -3.50850851,\n",
       "       -3.4984985 , -3.48848849, -3.47847848, -3.46846847, -3.45845846,\n",
       "       -3.44844845, -3.43843844, -3.42842843, -3.41841842, -3.40840841,\n",
       "       -3.3983984 , -3.38838839, -3.37837838, -3.36836837, -3.35835836,\n",
       "       -3.34834835, -3.33833834, -3.32832833, -3.31831832, -3.30830831,\n",
       "       -3.2982983 , -3.28828829, -3.27827828, -3.26826827, -3.25825826,\n",
       "       -3.24824825, -3.23823824, -3.22822823, -3.21821822, -3.20820821,\n",
       "       -3.1981982 , -3.18818819, -3.17817818, -3.16816817, -3.15815816,\n",
       "       -3.14814815, -3.13813814, -3.12812813, -3.11811812, -3.10810811,\n",
       "       -3.0980981 , -3.08808809, -3.07807808, -3.06806807, -3.05805806,\n",
       "       -3.04804805, -3.03803804, -3.02802803, -3.01801802, -3.00800801,\n",
       "       -2.997998  , -2.98798799, -2.97797798, -2.96796797, -2.95795796,\n",
       "       -2.94794795, -2.93793794, -2.92792793, -2.91791792, -2.90790791,\n",
       "       -2.8978979 , -2.88788789, -2.87787788, -2.86786787, -2.85785786,\n",
       "       -2.84784785, -2.83783784, -2.82782783, -2.81781782, -2.80780781,\n",
       "       -2.7977978 , -2.78778779, -2.77777778, -2.76776777, -2.75775776,\n",
       "       -2.74774775, -2.73773774, -2.72772773, -2.71771772, -2.70770771,\n",
       "       -2.6976977 , -2.68768769, -2.67767768, -2.66766767, -2.65765766,\n",
       "       -2.64764765, -2.63763764, -2.62762763, -2.61761762, -2.60760761,\n",
       "       -2.5975976 , -2.58758759, -2.57757758, -2.56756757, -2.55755756,\n",
       "       -2.54754755, -2.53753754, -2.52752753, -2.51751752, -2.50750751,\n",
       "       -2.4974975 , -2.48748749, -2.47747748, -2.46746747, -2.45745746,\n",
       "       -2.44744745, -2.43743744, -2.42742743, -2.41741742, -2.40740741,\n",
       "       -2.3973974 , -2.38738739, -2.37737738, -2.36736737, -2.35735736,\n",
       "       -2.34734735, -2.33733734, -2.32732733, -2.31731732, -2.30730731,\n",
       "       -2.2972973 , -2.28728729, -2.27727728, -2.26726727, -2.25725726,\n",
       "       -2.24724725, -2.23723724, -2.22722723, -2.21721722, -2.20720721,\n",
       "       -2.1971972 , -2.18718719, -2.17717718, -2.16716717, -2.15715716,\n",
       "       -2.14714715, -2.13713714, -2.12712713, -2.11711712, -2.10710711,\n",
       "       -2.0970971 , -2.08708709, -2.07707708, -2.06706707, -2.05705706,\n",
       "       -2.04704705, -2.03703704, -2.02702703, -2.01701702, -2.00700701,\n",
       "       -1.996997  , -1.98698699, -1.97697698, -1.96696697, -1.95695696,\n",
       "       -1.94694695, -1.93693694, -1.92692693, -1.91691692, -1.90690691,\n",
       "       -1.8968969 , -1.88688689, -1.87687688, -1.86686687, -1.85685686,\n",
       "       -1.84684685, -1.83683684, -1.82682683, -1.81681682, -1.80680681,\n",
       "       -1.7967968 , -1.78678679, -1.77677678, -1.76676677, -1.75675676,\n",
       "       -1.74674675, -1.73673674, -1.72672673, -1.71671672, -1.70670671,\n",
       "       -1.6966967 , -1.68668669, -1.67667668, -1.66666667, -1.65665666,\n",
       "       -1.64664665, -1.63663664, -1.62662663, -1.61661662, -1.60660661,\n",
       "       -1.5965966 , -1.58658659, -1.57657658, -1.56656657, -1.55655656,\n",
       "       -1.54654655, -1.53653654, -1.52652653, -1.51651652, -1.50650651,\n",
       "       -1.4964965 , -1.48648649, -1.47647648, -1.46646647, -1.45645646,\n",
       "       -1.44644645, -1.43643644, -1.42642643, -1.41641642, -1.40640641,\n",
       "       -1.3963964 , -1.38638639, -1.37637638, -1.36636637, -1.35635636,\n",
       "       -1.34634635, -1.33633634, -1.32632633, -1.31631632, -1.30630631,\n",
       "       -1.2962963 , -1.28628629, -1.27627628, -1.26626627, -1.25625626,\n",
       "       -1.24624625, -1.23623624, -1.22622623, -1.21621622, -1.20620621,\n",
       "       -1.1961962 , -1.18618619, -1.17617618, -1.16616617, -1.15615616,\n",
       "       -1.14614615, -1.13613614, -1.12612613, -1.11611612, -1.10610611,\n",
       "       -1.0960961 , -1.08608609, -1.07607608, -1.06606607, -1.05605606,\n",
       "       -1.04604605, -1.03603604, -1.02602603, -1.01601602, -1.00600601,\n",
       "       -0.995996  , -0.98598599, -0.97597598, -0.96596597, -0.95595596,\n",
       "       -0.94594595, -0.93593594, -0.92592593, -0.91591592, -0.90590591,\n",
       "       -0.8958959 , -0.88588589, -0.87587588, -0.86586587, -0.85585586,\n",
       "       -0.84584585, -0.83583584, -0.82582583, -0.81581582, -0.80580581,\n",
       "       -0.7957958 , -0.78578579, -0.77577578, -0.76576577, -0.75575576,\n",
       "       -0.74574575, -0.73573574, -0.72572573, -0.71571572, -0.70570571,\n",
       "       -0.6956957 , -0.68568569, -0.67567568, -0.66566567, -0.65565566,\n",
       "       -0.64564565, -0.63563564, -0.62562563, -0.61561562, -0.60560561,\n",
       "       -0.5955956 , -0.58558559, -0.57557558, -0.56556557, -0.55555556,\n",
       "       -0.54554555, -0.53553554, -0.52552553, -0.51551552, -0.50550551,\n",
       "       -0.4954955 , -0.48548549, -0.47547548, -0.46546547, -0.45545546,\n",
       "       -0.44544545, -0.43543544, -0.42542543, -0.41541542, -0.40540541,\n",
       "       -0.3953954 , -0.38538539, -0.37537538, -0.36536537, -0.35535536,\n",
       "       -0.34534535, -0.33533534, -0.32532533, -0.31531532, -0.30530531,\n",
       "       -0.2952953 , -0.28528529, -0.27527528, -0.26526527, -0.25525526,\n",
       "       -0.24524525, -0.23523524, -0.22522523, -0.21521522, -0.20520521,\n",
       "       -0.1951952 , -0.18518519, -0.17517518, -0.16516517, -0.15515516,\n",
       "       -0.14514515, -0.13513514, -0.12512513, -0.11511512, -0.10510511,\n",
       "       -0.0950951 , -0.08508509, -0.07507508, -0.06506507, -0.05505506,\n",
       "       -0.04504505, -0.03503504, -0.02502503, -0.01501502, -0.00500501,\n",
       "        0.00500501,  0.01501502,  0.02502503,  0.03503504,  0.04504505,\n",
       "        0.05505506,  0.06506507,  0.07507508,  0.08508509,  0.0950951 ,\n",
       "        0.10510511,  0.11511512,  0.12512513,  0.13513514,  0.14514515,\n",
       "        0.15515516,  0.16516517,  0.17517518,  0.18518519,  0.1951952 ,\n",
       "        0.20520521,  0.21521522,  0.22522523,  0.23523524,  0.24524525,\n",
       "        0.25525526,  0.26526527,  0.27527528,  0.28528529,  0.2952953 ,\n",
       "        0.30530531,  0.31531532,  0.32532533,  0.33533534,  0.34534535,\n",
       "        0.35535536,  0.36536537,  0.37537538,  0.38538539,  0.3953954 ,\n",
       "        0.40540541,  0.41541542,  0.42542543,  0.43543544,  0.44544545,\n",
       "        0.45545546,  0.46546547,  0.47547548,  0.48548549,  0.4954955 ,\n",
       "        0.50550551,  0.51551552,  0.52552553,  0.53553554,  0.54554555,\n",
       "        0.55555556,  0.56556557,  0.57557558,  0.58558559,  0.5955956 ,\n",
       "        0.60560561,  0.61561562,  0.62562563,  0.63563564,  0.64564565,\n",
       "        0.65565566,  0.66566567,  0.67567568,  0.68568569,  0.6956957 ,\n",
       "        0.70570571,  0.71571572,  0.72572573,  0.73573574,  0.74574575,\n",
       "        0.75575576,  0.76576577,  0.77577578,  0.78578579,  0.7957958 ,\n",
       "        0.80580581,  0.81581582,  0.82582583,  0.83583584,  0.84584585,\n",
       "        0.85585586,  0.86586587,  0.87587588,  0.88588589,  0.8958959 ,\n",
       "        0.90590591,  0.91591592,  0.92592593,  0.93593594,  0.94594595,\n",
       "        0.95595596,  0.96596597,  0.97597598,  0.98598599,  0.995996  ,\n",
       "        1.00600601,  1.01601602,  1.02602603,  1.03603604,  1.04604605,\n",
       "        1.05605606,  1.06606607,  1.07607608,  1.08608609,  1.0960961 ,\n",
       "        1.10610611,  1.11611612,  1.12612613,  1.13613614,  1.14614615,\n",
       "        1.15615616,  1.16616617,  1.17617618,  1.18618619,  1.1961962 ,\n",
       "        1.20620621,  1.21621622,  1.22622623,  1.23623624,  1.24624625,\n",
       "        1.25625626,  1.26626627,  1.27627628,  1.28628629,  1.2962963 ,\n",
       "        1.30630631,  1.31631632,  1.32632633,  1.33633634,  1.34634635,\n",
       "        1.35635636,  1.36636637,  1.37637638,  1.38638639,  1.3963964 ,\n",
       "        1.40640641,  1.41641642,  1.42642643,  1.43643644,  1.44644645,\n",
       "        1.45645646,  1.46646647,  1.47647648,  1.48648649,  1.4964965 ,\n",
       "        1.50650651,  1.51651652,  1.52652653,  1.53653654,  1.54654655,\n",
       "        1.55655656,  1.56656657,  1.57657658,  1.58658659,  1.5965966 ,\n",
       "        1.60660661,  1.61661662,  1.62662663,  1.63663664,  1.64664665,\n",
       "        1.65665666,  1.66666667,  1.67667668,  1.68668669,  1.6966967 ,\n",
       "        1.70670671,  1.71671672,  1.72672673,  1.73673674,  1.74674675,\n",
       "        1.75675676,  1.76676677,  1.77677678,  1.78678679,  1.7967968 ,\n",
       "        1.80680681,  1.81681682,  1.82682683,  1.83683684,  1.84684685,\n",
       "        1.85685686,  1.86686687,  1.87687688,  1.88688689,  1.8968969 ,\n",
       "        1.90690691,  1.91691692,  1.92692693,  1.93693694,  1.94694695,\n",
       "        1.95695696,  1.96696697,  1.97697698,  1.98698699,  1.996997  ,\n",
       "        2.00700701,  2.01701702,  2.02702703,  2.03703704,  2.04704705,\n",
       "        2.05705706,  2.06706707,  2.07707708,  2.08708709,  2.0970971 ,\n",
       "        2.10710711,  2.11711712,  2.12712713,  2.13713714,  2.14714715,\n",
       "        2.15715716,  2.16716717,  2.17717718,  2.18718719,  2.1971972 ,\n",
       "        2.20720721,  2.21721722,  2.22722723,  2.23723724,  2.24724725,\n",
       "        2.25725726,  2.26726727,  2.27727728,  2.28728729,  2.2972973 ,\n",
       "        2.30730731,  2.31731732,  2.32732733,  2.33733734,  2.34734735,\n",
       "        2.35735736,  2.36736737,  2.37737738,  2.38738739,  2.3973974 ,\n",
       "        2.40740741,  2.41741742,  2.42742743,  2.43743744,  2.44744745,\n",
       "        2.45745746,  2.46746747,  2.47747748,  2.48748749,  2.4974975 ,\n",
       "        2.50750751,  2.51751752,  2.52752753,  2.53753754,  2.54754755,\n",
       "        2.55755756,  2.56756757,  2.57757758,  2.58758759,  2.5975976 ,\n",
       "        2.60760761,  2.61761762,  2.62762763,  2.63763764,  2.64764765,\n",
       "        2.65765766,  2.66766767,  2.67767768,  2.68768769,  2.6976977 ,\n",
       "        2.70770771,  2.71771772,  2.72772773,  2.73773774,  2.74774775,\n",
       "        2.75775776,  2.76776777,  2.77777778,  2.78778779,  2.7977978 ,\n",
       "        2.80780781,  2.81781782,  2.82782783,  2.83783784,  2.84784785,\n",
       "        2.85785786,  2.86786787,  2.87787788,  2.88788789,  2.8978979 ,\n",
       "        2.90790791,  2.91791792,  2.92792793,  2.93793794,  2.94794795,\n",
       "        2.95795796,  2.96796797,  2.97797798,  2.98798799,  2.997998  ,\n",
       "        3.00800801,  3.01801802,  3.02802803,  3.03803804,  3.04804805,\n",
       "        3.05805806,  3.06806807,  3.07807808,  3.08808809,  3.0980981 ,\n",
       "        3.10810811,  3.11811812,  3.12812813,  3.13813814,  3.14814815,\n",
       "        3.15815816,  3.16816817,  3.17817818,  3.18818819,  3.1981982 ,\n",
       "        3.20820821,  3.21821822,  3.22822823,  3.23823824,  3.24824825,\n",
       "        3.25825826,  3.26826827,  3.27827828,  3.28828829,  3.2982983 ,\n",
       "        3.30830831,  3.31831832,  3.32832833,  3.33833834,  3.34834835,\n",
       "        3.35835836,  3.36836837,  3.37837838,  3.38838839,  3.3983984 ,\n",
       "        3.40840841,  3.41841842,  3.42842843,  3.43843844,  3.44844845,\n",
       "        3.45845846,  3.46846847,  3.47847848,  3.48848849,  3.4984985 ,\n",
       "        3.50850851,  3.51851852,  3.52852853,  3.53853854,  3.54854855,\n",
       "        3.55855856,  3.56856857,  3.57857858,  3.58858859,  3.5985986 ,\n",
       "        3.60860861,  3.61861862,  3.62862863,  3.63863864,  3.64864865,\n",
       "        3.65865866,  3.66866867,  3.67867868,  3.68868869,  3.6986987 ,\n",
       "        3.70870871,  3.71871872,  3.72872873,  3.73873874,  3.74874875,\n",
       "        3.75875876,  3.76876877,  3.77877878,  3.78878879,  3.7987988 ,\n",
       "        3.80880881,  3.81881882,  3.82882883,  3.83883884,  3.84884885,\n",
       "        3.85885886,  3.86886887,  3.87887888,  3.88888889,  3.8988989 ,\n",
       "        3.90890891,  3.91891892,  3.92892893,  3.93893894,  3.94894895,\n",
       "        3.95895896,  3.96896897,  3.97897898,  3.98898899,  3.998999  ,\n",
       "        4.00900901,  4.01901902,  4.02902903,  4.03903904,  4.04904905,\n",
       "        4.05905906,  4.06906907,  4.07907908,  4.08908909,  4.0990991 ,\n",
       "        4.10910911,  4.11911912,  4.12912913,  4.13913914,  4.14914915,\n",
       "        4.15915916,  4.16916917,  4.17917918,  4.18918919,  4.1991992 ,\n",
       "        4.20920921,  4.21921922,  4.22922923,  4.23923924,  4.24924925,\n",
       "        4.25925926,  4.26926927,  4.27927928,  4.28928929,  4.2992993 ,\n",
       "        4.30930931,  4.31931932,  4.32932933,  4.33933934,  4.34934935,\n",
       "        4.35935936,  4.36936937,  4.37937938,  4.38938939,  4.3993994 ,\n",
       "        4.40940941,  4.41941942,  4.42942943,  4.43943944,  4.44944945,\n",
       "        4.45945946,  4.46946947,  4.47947948,  4.48948949,  4.4994995 ,\n",
       "        4.50950951,  4.51951952,  4.52952953,  4.53953954,  4.54954955,\n",
       "        4.55955956,  4.56956957,  4.57957958,  4.58958959,  4.5995996 ,\n",
       "        4.60960961,  4.61961962,  4.62962963,  4.63963964,  4.64964965,\n",
       "        4.65965966,  4.66966967,  4.67967968,  4.68968969,  4.6996997 ,\n",
       "        4.70970971,  4.71971972,  4.72972973,  4.73973974,  4.74974975,\n",
       "        4.75975976,  4.76976977,  4.77977978,  4.78978979,  4.7997998 ,\n",
       "        4.80980981,  4.81981982,  4.82982983,  4.83983984,  4.84984985,\n",
       "        4.85985986,  4.86986987,  4.87987988,  4.88988989,  4.8998999 ,\n",
       "        4.90990991,  4.91991992,  4.92992993,  4.93993994,  4.94994995,\n",
       "        4.95995996,  4.96996997,  4.97997998,  4.98998999,  5.        ])"
      ]
     },
     "execution_count": 22,
     "metadata": {},
     "output_type": "execute_result"
    }
   ],
   "source": [
    "# Generate a range of x values\n",
    "x = np.linspace(-5, 5, 1000)\n",
    "x\n"
   ]
  },
  {
   "cell_type": "code",
   "execution_count": 20,
   "id": "68b8f8a1-d503-46c7-97ea-40a7a72eb335",
   "metadata": {},
   "outputs": [
    {
     "data": {
      "text/plain": [
       "array([0.000396  , 0.00040228, 0.00040867, 0.00041516, 0.00042176,\n",
       "       0.00042848, 0.0004353 , 0.00044224, 0.0004493 , 0.00045647,\n",
       "       0.00046377, 0.00047119, 0.00047873, 0.00048641, 0.00049421,\n",
       "       0.00050214, 0.00051021, 0.00051841, 0.00052675, 0.00053524,\n",
       "       0.00054386, 0.00055264, 0.00056156, 0.00057063, 0.00057986,\n",
       "       0.00058925, 0.00059879, 0.0006085 , 0.00061837, 0.00062841,\n",
       "       0.00063863, 0.00064901, 0.00065958, 0.00067032, 0.00068125,\n",
       "       0.00069237, 0.00070368, 0.00071518, 0.00072687, 0.00073877,\n",
       "       0.00075087, 0.00076318, 0.00077571, 0.00078844, 0.0008014 ,\n",
       "       0.00081458, 0.00082799, 0.00084163, 0.0008555 , 0.00086961,\n",
       "       0.00088397, 0.00089857, 0.00091343, 0.00092854, 0.00094392,\n",
       "       0.00095956, 0.00097548, 0.00099167, 0.00100814, 0.00102489,\n",
       "       0.00104194, 0.00105928, 0.00107693, 0.00109488, 0.00111314,\n",
       "       0.00113173, 0.00115063, 0.00116987, 0.00118944, 0.00120935,\n",
       "       0.00122961, 0.00125022, 0.0012712 , 0.00129254, 0.00131425,\n",
       "       0.00133635, 0.00135883, 0.0013817 , 0.00140498, 0.00142866,\n",
       "       0.00145276, 0.00147728, 0.00150223, 0.00152762, 0.00155345,\n",
       "       0.00157974, 0.00160649, 0.00163372, 0.00166142, 0.0016896 ,\n",
       "       0.00171829, 0.00174748, 0.00177718, 0.00180741, 0.00183817,\n",
       "       0.00186948, 0.00190133, 0.00193375, 0.00196674, 0.00200031,\n",
       "       0.00203448, 0.00206925, 0.00210463, 0.00214064, 0.00217729,\n",
       "       0.00221458, 0.00225254, 0.00229117, 0.00233048, 0.00237049,\n",
       "       0.0024112 , 0.00245264, 0.00249481, 0.00253773, 0.00258141,\n",
       "       0.00262587, 0.00267111, 0.00271716, 0.00276403, 0.00281172,\n",
       "       0.00286026, 0.00290967, 0.00295995, 0.00301113, 0.00306321,\n",
       "       0.00311622, 0.00317017, 0.00322508, 0.00328097, 0.00333784,\n",
       "       0.00339573, 0.00345465, 0.00351462, 0.00357565, 0.00363777,\n",
       "       0.00370099, 0.00376534, 0.00383082, 0.00389748, 0.00396532,\n",
       "       0.00403436, 0.00410464, 0.00417616, 0.00424895, 0.00432304,\n",
       "       0.00439844, 0.00447519, 0.0045533 , 0.00463279, 0.0047137 ,\n",
       "       0.00479605, 0.00487986, 0.00496516, 0.00505198, 0.00514033,\n",
       "       0.00523025, 0.00532178, 0.00541492, 0.00550972, 0.0056062 ,\n",
       "       0.00570439, 0.00580432, 0.00590602, 0.00600953, 0.00611487,\n",
       "       0.00622207, 0.00633118, 0.00644221, 0.00655521, 0.00667021,\n",
       "       0.00678724, 0.00690634, 0.00702755, 0.0071509 , 0.00727642,\n",
       "       0.00740416, 0.00753415, 0.00766644, 0.00780105, 0.00793804,\n",
       "       0.00807744, 0.00821929, 0.00836364, 0.00851052, 0.00865999,\n",
       "       0.00881208, 0.00896683, 0.00912431, 0.00928454, 0.00944758,\n",
       "       0.00961347, 0.00978226, 0.00995401, 0.01012875, 0.01030654,\n",
       "       0.01048744, 0.01067149, 0.01085874, 0.01104925, 0.01124307,\n",
       "       0.01144026, 0.01164087, 0.01184496, 0.01205259, 0.01226381,\n",
       "       0.01247868, 0.01269727, 0.01291962, 0.01314582, 0.0133759 ,\n",
       "       0.01360995, 0.01384802, 0.01409018, 0.01433649, 0.01458702,\n",
       "       0.01484184, 0.01510102, 0.01536461, 0.01563271, 0.01590537,\n",
       "       0.01618266, 0.01646467, 0.01675146, 0.01704311, 0.0173397 ,\n",
       "       0.01764129, 0.01794798, 0.01825983, 0.01857692, 0.01889935,\n",
       "       0.01922718, 0.0195605 , 0.01989939, 0.02024395, 0.02059424,\n",
       "       0.02095036, 0.0213124 , 0.02168044, 0.02205457, 0.02243489,\n",
       "       0.02282148, 0.02321443, 0.02361384, 0.0240198 , 0.02443241,\n",
       "       0.02485176, 0.02527795, 0.02571107, 0.02615123, 0.02659852,\n",
       "       0.02705304, 0.0275149 , 0.02798419, 0.02846102, 0.0289455 ,\n",
       "       0.02943772, 0.0299378 , 0.03044583, 0.03096193, 0.0314862 ,\n",
       "       0.03201876, 0.03255971, 0.03310916, 0.03366723, 0.03423402,\n",
       "       0.03480965, 0.03539422, 0.03598787, 0.03659069, 0.03720281,\n",
       "       0.03782433, 0.03845538, 0.03909608, 0.03974653, 0.04040687,\n",
       "       0.04107719, 0.04175764, 0.04244831, 0.04314934, 0.04386084,\n",
       "       0.04458294, 0.04531575, 0.04605939, 0.04681398, 0.04757965,\n",
       "       0.04835652, 0.0491447 , 0.04994432, 0.0507555 , 0.05157836,\n",
       "       0.05241302, 0.05325959, 0.05411821, 0.05498899, 0.05587205,\n",
       "       0.05676751, 0.05767548, 0.05859609, 0.05952945, 0.06047568,\n",
       "       0.0614349 , 0.06240722, 0.06339275, 0.06439162, 0.06540392,\n",
       "       0.06642977, 0.06746929, 0.06852258, 0.06958975, 0.0706709 ,\n",
       "       0.07176615, 0.07287558, 0.07399931, 0.07513744, 0.07629005,\n",
       "       0.07745726, 0.07863914, 0.0798358 , 0.08104733, 0.0822738 ,\n",
       "       0.08351531, 0.08477194, 0.08604377, 0.08733088, 0.08863333,\n",
       "       0.08995121, 0.09128458, 0.0926335 , 0.09399804, 0.09537826,\n",
       "       0.09677422, 0.09818595, 0.09961352, 0.10105697, 0.10251633,\n",
       "       0.10399165, 0.10548296, 0.10699028, 0.10851364, 0.11005306,\n",
       "       0.11160855, 0.11318012, 0.11476778, 0.11637153, 0.11799137,\n",
       "       0.11962728, 0.12127924, 0.12294724, 0.12463126, 0.12633125,\n",
       "       0.12804718, 0.12977901, 0.13152669, 0.13329015, 0.13506935,\n",
       "       0.1368642 , 0.13867464, 0.14050058, 0.14234194, 0.14419861,\n",
       "       0.1460705 , 0.1479575 , 0.14985948, 0.15177633, 0.15370791,\n",
       "       0.15565409, 0.15761472, 0.15958964, 0.16157869, 0.16358171,\n",
       "       0.1655985 , 0.1676289 , 0.1696727 , 0.1717297 , 0.17379969,\n",
       "       0.17588245, 0.17797776, 0.18008538, 0.18220506, 0.18433655,\n",
       "       0.18647959, 0.18863391, 0.19079923, 0.19297526, 0.19516171,\n",
       "       0.19735826, 0.19956461, 0.20178043, 0.20400539, 0.20623915,\n",
       "       0.20848136, 0.21073165, 0.21298966, 0.21525502, 0.21752734,\n",
       "       0.21980622, 0.22209127, 0.22438206, 0.22667818, 0.22897921,\n",
       "       0.23128469, 0.23359419, 0.23590726, 0.23822342, 0.24054221,\n",
       "       0.24286316, 0.24518576, 0.24750954, 0.24983398, 0.25215857,\n",
       "       0.25448281, 0.25680616, 0.25912809, 0.26144806, 0.26376553,\n",
       "       0.26607995, 0.26839075, 0.27069738, 0.27299925, 0.2752958 ,\n",
       "       0.27758644, 0.27987059, 0.28214764, 0.28441701, 0.28667809,\n",
       "       0.28893028, 0.29117295, 0.29340551, 0.29562733, 0.29783778,\n",
       "       0.30003625, 0.30222211, 0.30439472, 0.30655346, 0.30869769,\n",
       "       0.31082678, 0.31294009, 0.31503698, 0.31711682, 0.31917897,\n",
       "       0.32122279, 0.32324765, 0.32525291, 0.32723793, 0.32920208,\n",
       "       0.33114474, 0.33306527, 0.33496305, 0.33683745, 0.33868786,\n",
       "       0.34051366, 0.34231424, 0.344089  , 0.34583732, 0.34755862,\n",
       "       0.34925231, 0.3509178 , 0.35255452, 0.35416188, 0.35573934,\n",
       "       0.35728633, 0.35880231, 0.36028673, 0.36173907, 0.3631588 ,\n",
       "       0.36454541, 0.3658984 , 0.36721727, 0.36850155, 0.36975076,\n",
       "       0.37096444, 0.37214214, 0.37328342, 0.37438787, 0.37545506,\n",
       "       0.3764846 , 0.37747609, 0.37842917, 0.37934348, 0.38021866,\n",
       "       0.38105438, 0.38185034, 0.38260621, 0.38332171, 0.38399657,\n",
       "       0.38463053, 0.38522334, 0.38577477, 0.38628461, 0.38675267,\n",
       "       0.38717875, 0.38756271, 0.38790438, 0.38820363, 0.38846035,\n",
       "       0.38867443, 0.3888458 , 0.38897439, 0.38906014, 0.38910302,\n",
       "       0.38910302, 0.38906014, 0.38897439, 0.3888458 , 0.38867443,\n",
       "       0.38846035, 0.38820363, 0.38790438, 0.38756271, 0.38717875,\n",
       "       0.38675267, 0.38628461, 0.38577477, 0.38522334, 0.38463053,\n",
       "       0.38399657, 0.38332171, 0.38260621, 0.38185034, 0.38105438,\n",
       "       0.38021866, 0.37934348, 0.37842917, 0.37747609, 0.3764846 ,\n",
       "       0.37545506, 0.37438787, 0.37328342, 0.37214214, 0.37096444,\n",
       "       0.36975076, 0.36850155, 0.36721727, 0.3658984 , 0.36454541,\n",
       "       0.3631588 , 0.36173907, 0.36028673, 0.35880231, 0.35728633,\n",
       "       0.35573934, 0.35416188, 0.35255452, 0.3509178 , 0.34925231,\n",
       "       0.34755862, 0.34583732, 0.344089  , 0.34231424, 0.34051366,\n",
       "       0.33868786, 0.33683745, 0.33496305, 0.33306527, 0.33114474,\n",
       "       0.32920208, 0.32723793, 0.32525291, 0.32324765, 0.32122279,\n",
       "       0.31917897, 0.31711682, 0.31503698, 0.31294009, 0.31082678,\n",
       "       0.30869769, 0.30655346, 0.30439472, 0.30222211, 0.30003625,\n",
       "       0.29783778, 0.29562733, 0.29340551, 0.29117295, 0.28893028,\n",
       "       0.28667809, 0.28441701, 0.28214764, 0.27987059, 0.27758644,\n",
       "       0.2752958 , 0.27299925, 0.27069738, 0.26839075, 0.26607995,\n",
       "       0.26376553, 0.26144806, 0.25912809, 0.25680616, 0.25448281,\n",
       "       0.25215857, 0.24983398, 0.24750954, 0.24518576, 0.24286316,\n",
       "       0.24054221, 0.23822342, 0.23590726, 0.23359419, 0.23128469,\n",
       "       0.22897921, 0.22667818, 0.22438206, 0.22209127, 0.21980622,\n",
       "       0.21752734, 0.21525502, 0.21298966, 0.21073165, 0.20848136,\n",
       "       0.20623915, 0.20400539, 0.20178043, 0.19956461, 0.19735826,\n",
       "       0.19516171, 0.19297526, 0.19079923, 0.18863391, 0.18647959,\n",
       "       0.18433655, 0.18220506, 0.18008538, 0.17797776, 0.17588245,\n",
       "       0.17379969, 0.1717297 , 0.1696727 , 0.1676289 , 0.1655985 ,\n",
       "       0.16358171, 0.16157869, 0.15958964, 0.15761472, 0.15565409,\n",
       "       0.15370791, 0.15177633, 0.14985948, 0.1479575 , 0.1460705 ,\n",
       "       0.14419861, 0.14234194, 0.14050058, 0.13867464, 0.1368642 ,\n",
       "       0.13506935, 0.13329015, 0.13152669, 0.12977901, 0.12804718,\n",
       "       0.12633125, 0.12463126, 0.12294724, 0.12127924, 0.11962728,\n",
       "       0.11799137, 0.11637153, 0.11476778, 0.11318012, 0.11160855,\n",
       "       0.11005306, 0.10851364, 0.10699028, 0.10548296, 0.10399165,\n",
       "       0.10251633, 0.10105697, 0.09961352, 0.09818595, 0.09677422,\n",
       "       0.09537826, 0.09399804, 0.0926335 , 0.09128458, 0.08995121,\n",
       "       0.08863333, 0.08733088, 0.08604377, 0.08477194, 0.08351531,\n",
       "       0.0822738 , 0.08104733, 0.0798358 , 0.07863914, 0.07745726,\n",
       "       0.07629005, 0.07513744, 0.07399931, 0.07287558, 0.07176615,\n",
       "       0.0706709 , 0.06958975, 0.06852258, 0.06746929, 0.06642977,\n",
       "       0.06540392, 0.06439162, 0.06339275, 0.06240722, 0.0614349 ,\n",
       "       0.06047568, 0.05952945, 0.05859609, 0.05767548, 0.05676751,\n",
       "       0.05587205, 0.05498899, 0.05411821, 0.05325959, 0.05241302,\n",
       "       0.05157836, 0.0507555 , 0.04994432, 0.0491447 , 0.04835652,\n",
       "       0.04757965, 0.04681398, 0.04605939, 0.04531575, 0.04458294,\n",
       "       0.04386084, 0.04314934, 0.04244831, 0.04175764, 0.04107719,\n",
       "       0.04040687, 0.03974653, 0.03909608, 0.03845538, 0.03782433,\n",
       "       0.03720281, 0.03659069, 0.03598787, 0.03539422, 0.03480965,\n",
       "       0.03423402, 0.03366723, 0.03310916, 0.03255971, 0.03201876,\n",
       "       0.0314862 , 0.03096193, 0.03044583, 0.0299378 , 0.02943772,\n",
       "       0.0289455 , 0.02846102, 0.02798419, 0.0275149 , 0.02705304,\n",
       "       0.02659852, 0.02615123, 0.02571107, 0.02527795, 0.02485176,\n",
       "       0.02443241, 0.0240198 , 0.02361384, 0.02321443, 0.02282148,\n",
       "       0.02243489, 0.02205457, 0.02168044, 0.0213124 , 0.02095036,\n",
       "       0.02059424, 0.02024395, 0.01989939, 0.0195605 , 0.01922718,\n",
       "       0.01889935, 0.01857692, 0.01825983, 0.01794798, 0.01764129,\n",
       "       0.0173397 , 0.01704311, 0.01675146, 0.01646467, 0.01618266,\n",
       "       0.01590537, 0.01563271, 0.01536461, 0.01510102, 0.01484184,\n",
       "       0.01458702, 0.01433649, 0.01409018, 0.01384802, 0.01360995,\n",
       "       0.0133759 , 0.01314582, 0.01291962, 0.01269727, 0.01247868,\n",
       "       0.01226381, 0.01205259, 0.01184496, 0.01164087, 0.01144026,\n",
       "       0.01124307, 0.01104925, 0.01085874, 0.01067149, 0.01048744,\n",
       "       0.01030654, 0.01012875, 0.00995401, 0.00978226, 0.00961347,\n",
       "       0.00944758, 0.00928454, 0.00912431, 0.00896683, 0.00881208,\n",
       "       0.00865999, 0.00851052, 0.00836364, 0.00821929, 0.00807744,\n",
       "       0.00793804, 0.00780105, 0.00766644, 0.00753415, 0.00740416,\n",
       "       0.00727642, 0.0071509 , 0.00702755, 0.00690634, 0.00678724,\n",
       "       0.00667021, 0.00655521, 0.00644221, 0.00633118, 0.00622207,\n",
       "       0.00611487, 0.00600953, 0.00590602, 0.00580432, 0.00570439,\n",
       "       0.0056062 , 0.00550972, 0.00541492, 0.00532178, 0.00523025,\n",
       "       0.00514033, 0.00505198, 0.00496516, 0.00487986, 0.00479605,\n",
       "       0.0047137 , 0.00463279, 0.0045533 , 0.00447519, 0.00439844,\n",
       "       0.00432304, 0.00424895, 0.00417616, 0.00410464, 0.00403436,\n",
       "       0.00396532, 0.00389748, 0.00383082, 0.00376534, 0.00370099,\n",
       "       0.00363777, 0.00357565, 0.00351462, 0.00345465, 0.00339573,\n",
       "       0.00333784, 0.00328097, 0.00322508, 0.00317017, 0.00311622,\n",
       "       0.00306321, 0.00301113, 0.00295995, 0.00290967, 0.00286026,\n",
       "       0.00281172, 0.00276403, 0.00271716, 0.00267111, 0.00262587,\n",
       "       0.00258141, 0.00253773, 0.00249481, 0.00245264, 0.0024112 ,\n",
       "       0.00237049, 0.00233048, 0.00229117, 0.00225254, 0.00221458,\n",
       "       0.00217729, 0.00214064, 0.00210463, 0.00206925, 0.00203448,\n",
       "       0.00200031, 0.00196674, 0.00193375, 0.00190133, 0.00186948,\n",
       "       0.00183817, 0.00180741, 0.00177718, 0.00174748, 0.00171829,\n",
       "       0.0016896 , 0.00166142, 0.00163372, 0.00160649, 0.00157974,\n",
       "       0.00155345, 0.00152762, 0.00150223, 0.00147728, 0.00145276,\n",
       "       0.00142866, 0.00140498, 0.0013817 , 0.00135883, 0.00133635,\n",
       "       0.00131425, 0.00129254, 0.0012712 , 0.00125022, 0.00122961,\n",
       "       0.00120935, 0.00118944, 0.00116987, 0.00115063, 0.00113173,\n",
       "       0.00111314, 0.00109488, 0.00107693, 0.00105928, 0.00104194,\n",
       "       0.00102489, 0.00100814, 0.00099167, 0.00097548, 0.00095956,\n",
       "       0.00094392, 0.00092854, 0.00091343, 0.00089857, 0.00088397,\n",
       "       0.00086961, 0.0008555 , 0.00084163, 0.00082799, 0.00081458,\n",
       "       0.0008014 , 0.00078844, 0.00077571, 0.00076318, 0.00075087,\n",
       "       0.00073877, 0.00072687, 0.00071518, 0.00070368, 0.00069237,\n",
       "       0.00068125, 0.00067032, 0.00065958, 0.00064901, 0.00063863,\n",
       "       0.00062841, 0.00061837, 0.0006085 , 0.00059879, 0.00058925,\n",
       "       0.00057986, 0.00057063, 0.00056156, 0.00055264, 0.00054386,\n",
       "       0.00053524, 0.00052675, 0.00051841, 0.00051021, 0.00050214,\n",
       "       0.00049421, 0.00048641, 0.00047873, 0.00047119, 0.00046377,\n",
       "       0.00045647, 0.0004493 , 0.00044224, 0.0004353 , 0.00042848,\n",
       "       0.00042176, 0.00041516, 0.00040867, 0.00040228, 0.000396  ])"
      ]
     },
     "execution_count": 20,
     "metadata": {},
     "output_type": "execute_result"
    }
   ],
   "source": [
    "# Calculate the PDF (probability density function) for the t-distribution\n",
    "pdf=t.pdf(x,df)\n",
    "pdf"
   ]
  },
  {
   "cell_type": "code",
   "execution_count": 21,
   "id": "fc9ee8e8-5bee-4f84-a274-e4a8c67d8f2d",
   "metadata": {},
   "outputs": [
    {
     "data": {
      "image/png": "[encoded data removed]",
      "text/plain": [
       "<Figure size 800x500 with 1 Axes>"
      ]
     },
     "metadata": {},
     "output_type": "display_data"
    }
   ],
   "source": [
    "#create a plot \n",
    "plt.figure(figsize=(8,5))\n",
    "plt.plot(x,pdf,label=f't-Distribution(df={df})',color='blue')\n",
    "plt.title(\"Student's t-Distribution\")\n",
    "plt.xlabel('x')\n",
    "plt.ylabel('PDF')\n",
    "plt.legend()\n",
    "plt.show()"
   ]
  },
  {
   "cell_type": "markdown",
   "id": "bcb22805-b8da-421c-b213-3a12150045a9",
   "metadata": {},
   "source": [
    "## Q10. Write a Python program to calculate the two-sample t-test for independent samples, given two random samples of equal size and a null hypothesis that the population means are equal."
   ]
  },
  {
   "cell_type": "code",
   "execution_count": 26,
   "id": "1002be30-dcf6-45ea-a29b-34099f2bafe9",
   "metadata": {},
   "outputs": [
    {
     "data": {
      "text/plain": [
       "array([22, 47, 43, 11, 38, 17, 47, 47, 42, 17, 38, 38, 17, 45, 20, 20, 41,\n",
       "       45, 47, 26])"
      ]
     },
     "execution_count": 26,
     "metadata": {},
     "output_type": "execute_result"
    }
   ],
   "source": [
    "import pandas as pd\n",
    "import numpy as np\n",
    "import seaborn as sns\n",
    "population=np.random.randint(10,50,50)\n",
    "population\n",
    "sample1=np.random.choice(population,20)\n",
    "\n",
    "sample2=np.random.choice(population,20)\n"
   ]
  },
  {
   "cell_type": "code",
   "execution_count": 27,
   "id": "1ffea64f-886d-425b-ab6a-702e9c5f558e",
   "metadata": {},
   "outputs": [
    {
     "data": {
      "text/plain": [
       "array([17, 20, 18, 29, 16, 47, 20, 35, 29, 47, 29, 33, 31, 24, 24, 29, 20,\n",
       "       14, 35, 24])"
      ]
     },
     "execution_count": 27,
     "metadata": {},
     "output_type": "execute_result"
    }
   ],
   "source": [
    "sample1"
   ]
  },
  {
   "cell_type": "code",
   "execution_count": 28,
   "id": "2694e78f-f564-4729-9065-18952cbb128b",
   "metadata": {},
   "outputs": [
    {
     "data": {
      "text/plain": [
       "array([22, 47, 43, 11, 38, 17, 47, 47, 42, 17, 38, 38, 17, 45, 20, 20, 41,\n",
       "       45, 47, 26])"
      ]
     },
     "execution_count": 28,
     "metadata": {},
     "output_type": "execute_result"
    }
   ],
   "source": [
    "sample2"
   ]
  },
  {
   "cell_type": "code",
   "execution_count": 30,
   "id": "d8d7164e-6801-425c-ac69-f93d523e39e5",
   "metadata": {},
   "outputs": [
    {
     "data": {
      "text/plain": [
       "27.05"
      ]
     },
     "execution_count": 30,
     "metadata": {},
     "output_type": "execute_result"
    }
   ],
   "source": [
    "np.mean(sample1)"
   ]
  },
  {
   "cell_type": "code",
   "execution_count": 31,
   "id": "c9014601-20ad-4c75-ad23-6187a33ec72c",
   "metadata": {},
   "outputs": [
    {
     "data": {
      "text/plain": [
       "33.4"
      ]
     },
     "execution_count": 31,
     "metadata": {},
     "output_type": "execute_result"
    }
   ],
   "source": [
    "np.mean(sample2)"
   ]
  },
  {
   "cell_type": "code",
   "execution_count": 34,
   "id": "c7513222-3d60-4b99-b436-4ad19b3f63d1",
   "metadata": {},
   "outputs": [],
   "source": [
    "import numpy as np\n",
    "from scipy import stats\n"
   ]
  },
  {
   "cell_type": "code",
   "execution_count": 37,
   "id": "dc05b798-7e66-4395-a574-0a98dec6a7be",
   "metadata": {},
   "outputs": [],
   "source": [
    "t_statistic, p_value = stats.ttest_ind(sample1,sample2)"
   ]
  },
  {
   "cell_type": "code",
   "execution_count": 38,
   "id": "869b9b84-f26c-491f-a84a-87848399cd07",
   "metadata": {},
   "outputs": [
    {
     "data": {
      "text/plain": [
       "(-1.788583008106737, 0.08165688336692925)"
      ]
     },
     "execution_count": 38,
     "metadata": {},
     "output_type": "execute_result"
    }
   ],
   "source": [
    "t_statistic, p_value "
   ]
  },
  {
   "cell_type": "code",
   "execution_count": 41,
   "id": "9265f719-3e31-41f8-8217-831dfc886894",
   "metadata": {},
   "outputs": [
    {
     "name": "stdout",
     "output_type": "stream",
     "text": [
      "Fail to reject the null hypothesis: Population means are equal\n"
     ]
    }
   ],
   "source": [
    "# Compare p-value to the significance level\n",
    "# with alpha 0.05\n",
    "alpha=0.05\n",
    "# compare p_value to the significance level\n",
    "if p_value<alpha:\n",
    "    print(\"Reject the null hypothesis: Population means are not equal\")\n",
    "else:\n",
    "    print(\"Fail to reject the null hypothesis: Population means are equal\")"
   ]
  },
  {
   "cell_type": "markdown",
   "id": "57e2b353-7cf2-4b3a-947c-ea15e6a4901d",
   "metadata": {},
   "source": [
    "## Q11: What is Student’s t distribution? When to use the t-Distribution."
   ]
  },
  {
   "cell_type": "markdown",
   "id": "3c4eb838-8e7b-4ca5-be2e-ae624340a83e",
   "metadata": {},
   "source": [
    "Student's t-distribution, often referred to simply as the t-distribution, is a probability distribution that is used in statistics to make inferences about population means when the sample size is small or when the population standard deviation is unknown. The t-distribution is similar in shape to the normal distribution but has heavier tails, which makes it more suitable for dealing with uncertainty when working with small sample sizes."
   ]
  },
  {
   "cell_type": "markdown",
   "id": "1e8fd4ca-4739-4ce4-a649-e852014c702b",
   "metadata": {},
   "source": [
    "## Key characteristics of the t-distribution:\n",
    "\n",
    "## Bell-shaped: \n",
    "Like the normal distribution, the t-distribution is bell-shaped, symmetric, and unimodal.\n",
    "\n",
    "## Parameterized by degrees of freedom:\n",
    "The shape of the t-distribution is determined by its degrees of freedom (df), which is typically denoted as \"ν\" (nu). The degrees of freedom depend on the sample size. As the sample size increases, the t-distribution approaches the shape of the standard normal distribution.\n",
    "\n",
    "## Heavier tails: \n",
    "The t-distribution has heavier tails compared to the normal distribution. This means that extreme values are less likely in the t-distribution, making it more robust when dealing with outliers or small sample sizes."
   ]
  },
  {
   "cell_type": "markdown",
   "id": "78d08b54-61fa-4f6b-a228-c2cb88e6e1e5",
   "metadata": {},
   "source": [
    "# When to use the t-distribution:\n",
    "\n",
    "## Small sample sizes: \n",
    "The t-distribution is particularly useful when working with small samples (typically with a sample size of less than 30) where the sample standard deviation is used to estimate the population standard deviation. In such cases, the normal distribution assumption may not hold, and the t-distribution provides a more accurate representation of the sampling distribution of the sample mean.\n",
    "\n",
    "## Unknown population standard deviation:\n",
    "When you do not know the population standard deviation, you can use the t-distribution for hypothesis testing and confidence intervals. The t-distribution accounts for the extra uncertainty introduced by estimating the population standard deviation from the sample.\n",
    "\n",
    "## Testing hypotheses: \n",
    "The t-distribution is commonly used for conducting t-tests, which are used to compare means from two groups, test hypotheses about population means, and assess the significance of the differences. Examples of t-tests include the independent samples t-test and the paired samples t-test.\n",
    "\n",
    "In summary, the t-distribution is a crucial tool in statistics for making inferences about population means when working with small samples or when the population standard deviation is unknown. It provides a more robust and accurate approach compared to assuming a normal distribution, especially when dealing with uncertainty and variability in your data."
   ]
  },
  {
   "cell_type": "markdown",
   "id": "8cda4ad1-71ef-4a87-8073-2d39cc9cfec2",
   "metadata": {},
   "source": [
    "## Q12: What is t-statistic? State the formula for t-statistic."
   ]
  },
  {
   "cell_type": "markdown",
   "id": "74f9b326-1a1c-4e22-bbbb-92157022acea",
   "metadata": {},
   "source": [
    "##### The t-statistic, also known as the t-value, is a statistical measure that quantifies how many standard errors a sample mean is away from the population mean. It is commonly used in hypothesis testing, particularly in cases where the population standard deviation is unknown, and a sample standard deviation is used instead. The t-statistic helps determine whether the difference between the sample mean and the hypothesized population mean is statistically significant."
   ]
  },
  {
   "cell_type": "markdown",
   "id": "176089b6-64b9-44f1-82be-eb9f9c89abbb",
   "metadata": {},
   "source": [
    "## The formula for calculating the t-statistic for a sample is as follows:\n",
    "\n",
    "# t=(Sample Mean−Hypothesized Population Mean)/Standard Error of the Mean\n",
    "\n",
    "# t = (x̄ – μ) / (s/√n)\n",
    "\n"
   ]
  },
  {
   "cell_type": "markdown",
   "id": "69f9d7e5-adf3-4fdc-bb6a-443a74aaf532",
   "metadata": {},
   "source": [
    "### Here's a breakdown of the components of the formula:\n",
    "\n",
    "## Sample Mean: \n",
    "This is the average of the data values in your sample.\n",
    "\n",
    "## Hypothesized Population Mean: \n",
    "This is the value you are testing the sample mean against in your hypothesis test. It represents your null hypothesis. In most cases, it's denoted as μ (mu) and represents the value you assume the population mean to be.\n",
    "\n",
    "## Standard Error of the Mean:\n",
    "The standard error of the mean (SE) is a measure of how much the sample mean is expected to vary from sample to sample. It is calculated as:\n",
    "\n",
    "SE = \\frac{{\\text{Sample Standard Deviation}}{{\\sqrt{\\text{Sample Size}}}}\n",
    "    =(s/√n)\n",
    "Here, the sample standard deviation is used as an estimate of the population standard deviation."
   ]
  },
  {
   "cell_type": "markdown",
   "id": "b4684849-abee-486a-8584-c4bf2fea7785",
   "metadata": {},
   "source": [
    "The t-statistic is a measure of how many standard errors the sample mean is away from the hypothesized population mean. A larger absolute t-value indicates a greater difference between the sample mean and the hypothesized population mean, which may be statistically significant.\n",
    "\n",
    "In hypothesis testing, you would compare the calculated t-statistic to a critical value from the t-distribution table or use software to find the p-value associated with the t-statistic. The p-value indicates the probability of observing a t-statistic as extreme as the one you calculated, assuming the null hypothesis is true. If the p-value is small (typically less than a chosen significance level, like 0.05), you may reject the null hypothesis in favor of the alternative hypothesis, indicating a statistically significant difference.\n",
    "\n",
    "\n",
    "\n",
    "\n",
    "\n"
   ]
  },
  {
   "cell_type": "markdown",
   "id": "974e6f7a-62d2-4a7f-8035-8610ce3c200d",
   "metadata": {},
   "source": [
    "## Q13. A coffee shop owner wants to estimate the average daily revenue for their shop. They take a random sample of 50 days and find the sample mean revenue to be $500 with a standard deviation of $50. Estimate the population mean revenue with a 95% confidence interval."
   ]
  },
  {
   "cell_type": "code",
   "execution_count": 47,
   "id": "bc30cfc9-09b4-4099-b952-2fd74153918a",
   "metadata": {},
   "outputs": [],
   "source": [
    "import scipy.stats as stats\n",
    "import math"
   ]
  },
  {
   "cell_type": "code",
   "execution_count": 51,
   "id": "1ea4b513-117a-4192-873a-2bb11599420b",
   "metadata": {},
   "outputs": [],
   "source": [
    "# given for sample\n",
    "sample_mean=500 # Sample mean revenue in dollars'\n",
    "sample_std=50 ## Sample standard deviation in dollars\n",
    "sample_size = 50"
   ]
  },
  {
   "cell_type": "code",
   "execution_count": 50,
   "id": "0b4b3be8-06cf-4cf8-8e1d-aa04c90e59d0",
   "metadata": {},
   "outputs": [],
   "source": [
    "#confidence interval.\n",
    "confidence_level=0.95"
   ]
  },
  {
   "cell_type": "code",
   "execution_count": 52,
   "id": "0d7c02cf-f960-4ed7-abbb-1a007b205507",
   "metadata": {},
   "outputs": [],
   "source": [
    "# Calculate the standard error\n",
    "standard_error=sample_std/math.sqrt(sample_size)"
   ]
  },
  {
   "cell_type": "code",
   "execution_count": 54,
   "id": "f961a7e5-d269-4e97-ae32-fe5cb082624b",
   "metadata": {},
   "outputs": [],
   "source": [
    "# Find the t-critical value\n",
    "t_critical = stats.t.ppf((1 + confidence_level) / 2, df=sample_size - 1)"
   ]
  },
  {
   "cell_type": "code",
   "execution_count": 55,
   "id": "71034d8d-c228-40da-ae9d-a7b2505ee6f3",
   "metadata": {},
   "outputs": [],
   "source": [
    "# Calculate the margin of error\n",
    "margin_of_error = t_critical * standard_error\n"
   ]
  },
  {
   "cell_type": "code",
   "execution_count": 56,
   "id": "00870144-3939-4ef2-be00-a82794cbc833",
   "metadata": {},
   "outputs": [],
   "source": [
    "# Calculate the confidence interval\n",
    "lower_bound = sample_mean - margin_of_error\n",
    "upper_bound = sample_mean + margin_of_error"
   ]
  },
  {
   "cell_type": "code",
   "execution_count": 58,
   "id": "88812e81-2618-40a8-910a-ec616334ddae",
   "metadata": {},
   "outputs": [
    {
     "name": "stdout",
     "output_type": "stream",
     "text": [
      "Sample Mean: $500\n",
      "Sample Size: 50\n",
      "Sample Standard Deviation: $50\n",
      "Confidence Level: 95.0%\n",
      "95% Confidence Interval: $485.79 to $514.21\n"
     ]
    }
   ],
   "source": [
    "# Print the results\n",
    "print(f\"Sample Mean: ${sample_mean}\")\n",
    "print(f\"Sample Size: {sample_size}\")\n",
    "print(f\"Sample Standard Deviation: ${sample_std}\")\n",
    "print(f\"Confidence Level: {confidence_level * 100}%\")\n",
    "print(f\"95% Confidence Interval: ${lower_bound:.2f} to ${upper_bound:.2f}\")"
   ]
  },
  {
   "cell_type": "markdown",
   "id": "ab01309b-503a-4d00-8c2f-1e2f59729561",
   "metadata": {},
   "source": [
    "## Q14. A researcher hypothesizes that a new drug will decrease blood pressure by 10 mmHg. They conduct a clinical trial with 100 patients and find that the sample mean decrease in blood pressure is 8 mmHg with a standard deviation of 3 mmHg. Test the hypothesis with a significance level of 0.05"
   ]
  },
  {
   "cell_type": "code",
   "execution_count": 14,
   "id": "2c1d9eaa-8071-4d33-8072-43e2b90fd0d5",
   "metadata": {},
   "outputs": [],
   "source": [
    "import scipy.stats as stats\n"
   ]
  },
  {
   "cell_type": "code",
   "execution_count": 15,
   "id": "319a8a74-7cc0-48f9-9dde-0fac2e32c91d",
   "metadata": {},
   "outputs": [],
   "source": [
    "#sample stats\n",
    "sample_mean=8 #sample mean decrease in blood pressure in mmHg\n",
    "sample_std = 3   # Sample standard deviation in mmHg\n",
    "sample_size = 100"
   ]
  },
  {
   "cell_type": "code",
   "execution_count": 16,
   "id": "90282092-312a-49c6-84e3-35d9feaa7a21",
   "metadata": {},
   "outputs": [],
   "source": [
    "# Hypothesized population mean\n",
    "hypothesized_mean = 10  # Null hypothesis: The drug decreases blood pressure by 10 mmHg"
   ]
  },
  {
   "cell_type": "code",
   "execution_count": 17,
   "id": "9ae899fe-95bf-4240-86dc-666ead092d29",
   "metadata": {},
   "outputs": [],
   "source": [
    "alpha=0.05\n"
   ]
  },
  {
   "cell_type": "code",
   "execution_count": 18,
   "id": "869920f9-a03f-4b52-9bc1-6b924dcae143",
   "metadata": {},
   "outputs": [
    {
     "name": "stdout",
     "output_type": "stream",
     "text": [
      "Reject the null hypothesis: The drug decreases blood pressure.\n"
     ]
    }
   ],
   "source": [
    "# Calculate the t-statistic or calculeted tc \n",
    "t_statistic = (sample_mean - hypothesized_mean)/(sample_std / (sample_size**0.5))\n",
    "t_statistic\n",
    "# Calculate the degrees of freedom\n",
    "degrees_of_freedom = sample_size - 1\n",
    "\n",
    "# Find the critical t-value for a one-tailed test (left-tailed)\n",
    "critical_t_value = stats.t.ppf(alpha, df=degrees_of_freedom)\n",
    "critical_t_value\n",
    "\n",
    "# Perform the hypothesis test\n",
    "if t_statistic < critical_t_value:\n",
    "    print(\"Reject the null hypothesis: The drug decreases blood pressure.\")\n",
    "else:\n",
    "    print(\"Fail to reject the null hypothesis: The drug does not decrease blood pressure as hypothesized.\")"
   ]
  },
  {
   "cell_type": "markdown",
   "id": "778d4825-268a-4fe6-9423-0809a1462106",
   "metadata": {},
   "source": [
    "## Q15. An electronics company produces a certain type of product with a mean weight of 5 pounds and a standard deviation of 0.5 pounds. A random sample of 25 products is taken, and the sample mean weight is found to be 4.8 pounds. Test the hypothesis that the true mean weight of the products is less than 5 pounds with a significance level of 0.01."
   ]
  },
  {
   "cell_type": "markdown",
   "id": "7b1aca8e-9c3c-44fb-9a64-1cd842197f42",
   "metadata": {},
   "source": [
    "## Step 1: Define the null and alternative hypotheses:\n",
    "\n",
    "## Null Hypothesis (H0): The true mean weight of the products is equal to 5 pounds (μ = 5).\n",
    "## Alternative Hypothesis (H1): The true mean weight of the products is less than 5 pounds (μ < 5)."
   ]
  },
  {
   "cell_type": "code",
   "execution_count": 8,
   "id": "1343cae8-672f-456f-a9f0-f381e0a02c02",
   "metadata": {},
   "outputs": [],
   "source": [
    "import scipy.stats as stats\n"
   ]
  },
  {
   "cell_type": "code",
   "execution_count": 4,
   "id": "e29187a0-f320-41eb-9e54-aa084ecec0c9",
   "metadata": {},
   "outputs": [],
   "source": [
    "#sample stats\n",
    "sample_mean=4.8\n",
    "sample_size=25"
   ]
  },
  {
   "cell_type": "code",
   "execution_count": 1,
   "id": "746aa697-0dc2-4a93-a3f3-ed12344bbaae",
   "metadata": {},
   "outputs": [],
   "source": [
    "# population stas\n",
    "population_mean=5\n",
    "population_std=0.5\n",
    "alpha=0.01"
   ]
  },
  {
   "cell_type": "code",
   "execution_count": 5,
   "id": "4c0acedc-5137-4e4b-91e8-5971421a00e1",
   "metadata": {},
   "outputs": [],
   "source": [
    "# Calculate the standard error (standard deviation of the sample mean)\n",
    "sample_std=population_mean/(sample_size**0.5)"
   ]
  },
  {
   "cell_type": "code",
   "execution_count": 12,
   "id": "4d6363e8-e278-44c5-9b7a-ec74d9637f0b",
   "metadata": {},
   "outputs": [
    {
     "data": {
      "text/plain": [
       "-0.20000000000000018"
      ]
     },
     "execution_count": 12,
     "metadata": {},
     "output_type": "execute_result"
    }
   ],
   "source": [
    "# Calculated the z-statistic\n",
    "z_value=(sample_mean-population_mean)/sample_std\n",
    "z_value"
   ]
  },
  {
   "cell_type": "code",
   "execution_count": 11,
   "id": "1976c53e-f2b0-49e4-865b-2f5c58427049",
   "metadata": {},
   "outputs": [
    {
     "data": {
      "text/plain": [
       "-2.3263478740408408"
      ]
     },
     "execution_count": 11,
     "metadata": {},
     "output_type": "execute_result"
    }
   ],
   "source": [
    "## find the critical value for a one-tailed test\n",
    "critical_value = stats.norm.ppf(alpha)# we can manually taken fron z table\n",
    "critical_value"
   ]
  },
  {
   "cell_type": "code",
   "execution_count": 10,
   "id": "b788fac3-15a2-44fc-9011-45eccfd07167",
   "metadata": {},
   "outputs": [
    {
     "name": "stdout",
     "output_type": "stream",
     "text": [
      "Fail to reject the null hypothesis\n",
      "There is not enough evidence to suggest that the true mean weight is less than 5 pounds.\n"
     ]
    }
   ],
   "source": [
    "# Compare the z-statistic to the critical value\n",
    "if z_value < critical_value:\n",
    "    print(\"Reject the null hypothesis\")\n",
    "    print(\"There is sufficient evidence to suggest that the true mean weight is less than 5 pounds.\")\n",
    "else:\n",
    "    print(\"Fail to reject the null hypothesis\")\n",
    "    print(\"There is not enough evidence to suggest that the true mean weight is less than 5 pounds.\")\n"
   ]
  },
  {
   "cell_type": "markdown",
   "id": "8e3e6754-8976-4ab6-9976-73df23ac8c3b",
   "metadata": {},
   "source": [
    "## Q16. Two groups of students are given different study materials to prepare for a test. The first group (n1 =30) has a mean score of 80 with a standard deviation of 10, and the second group (n2 = 40) has a meanscore of 75 with a standard deviation of 8. Test the hypothesis that the population means for the two groups are equal with a significance level of 0.01."
   ]
  },
  {
   "cell_type": "markdown",
   "id": "739d6239-4fea-4f7a-8bb6-f59fb2cf4e71",
   "metadata": {},
   "source": [
    "## Step 1: Define the null and alternative hypotheses:\n",
    "\n",
    "## Null Hypothesis (H0): The population means for the two groups are equal (μ1 = μ2).\n",
    "## Alternative Hypothesis (H1): The population means for the two groups are not equal (μ1 ≠ μ2)."
   ]
  },
  {
   "cell_type": "code",
   "execution_count": 22,
   "id": "dc871e85-fea0-4d9c-960d-f529587b3143",
   "metadata": {},
   "outputs": [],
   "source": [
    "# Given data\n",
    "mean1 = 80\n",
    "stddev1 = 10\n",
    "n1 = 30\n",
    "mean2 = 75\n",
    "stddev2 = 8\n",
    "n2 = 40\n",
    "significance_level = 0.01"
   ]
  },
  {
   "cell_type": "code",
   "execution_count": 23,
   "id": "7f9c3be3-e324-41ba-8523-8f3881762367",
   "metadata": {},
   "outputs": [
    {
     "name": "stdout",
     "output_type": "stream",
     "text": [
      "Fail to reject the null hypothesis\n",
      "There is not enough evidence to suggest that the population means are not equal.\n"
     ]
    }
   ],
   "source": [
    "\n",
    "# Calculate the test statistic\n",
    "t_statistic = (mean1 - mean2) / ((stddev1**2/n1) + (stddev2**2/n2))**0.5\n",
    "\n",
    "# Calculate the degrees of freedom\n",
    "degrees_of_freedom = n1 + n2 - 2\n",
    "\n",
    "# Find the critical t-values for a two-tailed test\n",
    "critical_value_left = stats.t.ppf(significance_level / 2, degrees_of_freedom)\n",
    "critical_value_right = -critical_value_left\n",
    "\n",
    "# Make a decision\n",
    "if t_statistic < critical_value_left or t_statistic > critical_value_right:\n",
    "    print(\"Reject the null hypothesis\")\n",
    "    print(\"There is sufficient evidence to suggest that the population means are not equal.\")\n",
    "else:\n",
    "    print(\"Fail to reject the null hypothesis\")\n",
    "    print(\"There is not enough evidence to suggest that the population means are not equal.\")\n"
   ]
  },
  {
   "cell_type": "markdown",
   "id": "20b422b8-5abb-40ac-aba0-0ad3749b0d79",
   "metadata": {},
   "source": [
    "## Q17. A marketing company wants to estimate the average number of ads watched by viewers during a TV program. They take a random sample of 50 viewers and find that the sample mean is 4 with a standard deviation of 1.5. Estimate the population mean with a 99% confidence interval."
   ]
  },
  {
   "cell_type": "code",
   "execution_count": 4,
   "id": "fc71faf1-e4dd-47ea-96b3-f86aea658cdf",
   "metadata": {},
   "outputs": [
    {
     "name": "stdout",
     "output_type": "stream",
     "text": [
      "99% Confidence Interval: (3.4536, 4.5464)\n"
     ]
    }
   ],
   "source": [
    "import scipy.stats as stats\n",
    "\n",
    "# Given data\n",
    "sample_mean = 4\n",
    "sample_stddev = 1.5\n",
    "sample_size = 50\n",
    "confidence_level = 0.99  # 99% confidence level\n",
    "\n",
    "# Calculate the critical value (Z) for the given confidence level\n",
    "critical_value = stats.norm.ppf((1+confidence_level) / 2)\n",
    "\n",
    "# Calculate the margin of error\n",
    "margin_of_error = critical_value * (sample_stddev / (sample_size**0.5))\n",
    "\n",
    "# Calculate the confidence interval\n",
    "lower_limit = sample_mean - margin_of_error\n",
    "upper_limit = sample_mean + margin_of_error\n",
    "\n",
    "# Print the confidence interval\n",
    "print(f\"99% Confidence Interval: ({lower_limit:.4f}, {upper_limit:.4f})\")\n"
   ]
  },
  {
   "cell_type": "code",
   "execution_count": null,
   "id": "82918938-f38b-4e64-8fd6-bc9acafd384d",
   "metadata": {},
   "outputs": [],
   "source": [
    "critical_value = stats.norm.ppf((1 + confidence_level) / 2)\n",
    "\n",
    "Let me explain the formula and the line you've provided:\n",
    "\n",
    "stats.norm.ppf: This is a function from a statistical library, likely from a package like SciPy or a similar library. It is used to find the critical value associated with a specific confidence level in a standard normal (Gaussian) distribution.\n",
    "\n",
    "(1 + confidence_level) / 2: In a two-tailed confidence interval, we divide the total confidence level into two equal parts. This formula calculates the middle point between the lower tail and upper tail of the distribution. By adding 1 to the confidence level and dividing by 2, we ensure that the total confidence level is equally split between the two tails.\n",
    "\n",
    "critical_value: This variable will contain the critical value, which is the number of standard deviations away from the mean that corresponds to the specified confidence level. In other words, it tells you how far from the mean you need to go to include the central portion of the distribution that corresponds to your confidence level.\n",
    "\n",
    "For example, if you want to find the critical value for a 95% confidence interval (which splits the 5% significance level into two equal tails), you would use confidence_level = 0.95, and the critical value will represent the number of standard deviations away from the mean to capture 95% of the data. The critical value will typically be a positive number, and you would use it when constructing a confidence interval in statistical hypothesis testing or estimation."
   ]
  },
  {
   "cell_type": "code",
   "execution_count": 6,
   "id": "45f70e0a-8cb1-4caa-991b-8fdac7266678",
   "metadata": {},
   "outputs": [
    {
     "ename": "SyntaxError",
     "evalue": "illegal target for annotation (3680837468.py, line 1)",
     "output_type": "error",
     "traceback": [
      "\u001b[0;36m  Cell \u001b[0;32mIn[6], line 1\u001b[0;36m\u001b[0m\n\u001b[0;31m    (1 - confidence_level) / 2: This part subtracts the complement of the confidence level from 1 and then divides by 2. The complement of the confidence level (1 - confidence_level) represents the probability in the tails of the distribution. Dividing it by 2 ensures that we find the value that corresponds to the central portion of the distribution, accounting for the specified confidence level.\u001b[0m\n\u001b[0m    ^\u001b[0m\n\u001b[0;31mSyntaxError\u001b[0m\u001b[0;31m:\u001b[0m illegal target for annotation\n"
     ]
    }
   ],
   "source": [
    "(1 - confidence_level) / 2: This part subtracts the complement of the confidence level from 1 and then divides by 2. The complement of the confidence level (1 - confidence_level) represents the probability in the tails of the distribution. Dividing it by 2 ensures that we find the value that corresponds to the central portion of the distribution, accounting for the specified confidence level.\n",
    "1 - (1 - confidence_level) /2 : This entire expression calculates the probability associated with the central portion of the distribution, corresponding to the confidence level.2"
   ]
  },
  {
   "cell_type": "code",
   "execution_count": null,
   "id": "43b6803f-fc95-4e31-8ed2-db9c2f184395",
   "metadata": {},
   "outputs": [],
   "source": []
  }
 ],
 "metadata": {
  "kernelspec": {
   "display_name": "Python 3 (ipykernel)",
   "language": "python",
   "name": "python3"
  },
  "language_info": {
   "codemirror_mode": {
    "name": "ipython",
    "version": 3
   },
   "file_extension": ".py",
   "mimetype": "text/x-python",
   "name": "python",
   "nbconvert_exporter": "python",
   "pygments_lexer": "ipython3",
   "version": "3.10.8"
  }
 },
 "nbformat": 4,
 "nbformat_minor": 5
}
