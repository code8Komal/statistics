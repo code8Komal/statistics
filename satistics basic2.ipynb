{
 "cells": [
  {
   "cell_type": "markdown",
   "id": "08a1110e-2d21-4888-adfd-15cb8003b21c",
   "metadata": {},
   "source": [
    "Q1. What are the three measures of central tendency?"
   ]
  },
  {
   "cell_type": "markdown",
   "id": "a6d49d55-9397-4b0b-aeb3-27034dce819d",
   "metadata": {},
   "source": [
    "The three measures of central tendency are:\n",
    "\n",
    "\n",
    "Mean: The mean, also known as the average, is calculated by adding up all the values in a data set and then dividing the sum by the total number of values. It represents the \"average\" value in the data set and is sensitive to extreme values (outliers).\n",
    "\n",
    "Median: The median is the middle value in a data set when it is arranged in ascending or descending order. If there is an even number of data points, the median is the average of the two middle values. The median is not influenced by extreme values and provides a measure of the central position of the data.\n",
    "\n",
    "Mode: The mode is the value that appears most frequently in a data set. A data set can have one mode (unimodal), more than one mode (multimodal), or no mode if all values occur with the same frequency. The mode is especially useful for categorical data but can also be used for numerical data"
   ]
  },
  {
   "cell_type": "markdown",
   "id": "829ff0da-35cc-4dfa-9cfe-0158a865dfbb",
   "metadata": {},
   "source": [
    "Q2. What is the difference between the mean, median, and mode? How are they used to measure the\n",
    "central tendency of a dataset?"
   ]
  },
  {
   "cell_type": "markdown",
   "id": "9e6c5e39-2754-4155-b14f-fb0d56feff24",
   "metadata": {},
   "source": [
    "The mean, median, and mode are three different measures of central tendency used to describe the central or typical value of a dataset. They differ in how they are calculated and what aspects of the data they emphasize:\n",
    "\n",
    "1)Mean:\n",
    "Calculation: The mean is calculated by adding up all the values in a dataset and then dividing the sum by the total number of values.\n",
    "\n",
    "Sensitivity to Outliers: The mean is sensitive to extreme values (outliers) because it takes into account all values in the dataset. If there are outliers, they can significantly skew the mean.\n",
    "\n",
    "Use: The mean is often used when the data is approximately normally distributed or when the distribution is symmetric and not heavily affected by outliers. It provides a balanced measure of central tendency.\n",
    "\n",
    "2)Median:\n",
    "\n",
    "Calculation: The median is the middle value in a dataset when it is arranged in ascending or descending order. If there is an even number of data points, the median is the average of the two middle values.\n",
    "\n",
    "Sensitivity to Outliers: The median is not sensitive to extreme values or outliers. It represents the middle value in the dataset, regardless of how large or small some values may be.\n",
    "\n",
    "Use: The median is useful when dealing with data that may have outliers or when the data's distribution is skewed. It provides a robust measure of central tendency.\n",
    "\n",
    "3)Mode:\n",
    "Calculation: The mode is the value that appears most frequently in a dataset.\n",
    "\n",
    "Sensitivity to Outliers: Like the median, the mode is not sensitive to outliers because it focuses on the most frequently occurring value(s) in the dataset.\n",
    "\n",
    "Use: The mode is often used for categorical data or when identifying the most common value(s) in a dataset is of interest. In some cases, datasets can have multiple modes (multimodal) or no mode if all values occur with the same frequency."
   ]
  },
  {
   "cell_type": "markdown",
   "id": "e425f9ce-1396-4a42-85be-ca514a8f4b93",
   "metadata": {},
   "source": [
    "Q3. Measure the three measures of central tendency for the given height data:\n",
    "[178,177,176,177,178.2,178,175,179,180,175,178.9,176.2,177,172.5,178,176.5]"
   ]
  },
  {
   "cell_type": "markdown",
   "id": "0932506b-a4d1-4595-a06f-1a99c8c532bf",
   "metadata": {},
   "source": [
    "there are three mesures of central tendency mean,median,mode.we calaculate as follow:"
   ]
  },
  {
   "cell_type": "code",
   "execution_count": 2,
   "id": "ae601955-ed4e-4a43-960f-d67011fdf5bd",
   "metadata": {},
   "outputs": [],
   "source": [
    "height=[178,177,176,177,178.2,178,175,179,180,175,178.9,176.2,177,172.5,178,176.5]"
   ]
  },
  {
   "cell_type": "code",
   "execution_count": 4,
   "id": "d244eeae-d188-4db1-95dc-8b840e785cd1",
   "metadata": {},
   "outputs": [
    {
     "data": {
      "text/plain": [
       "177.01875"
      ]
     },
     "execution_count": 4,
     "metadata": {},
     "output_type": "execute_result"
    }
   ],
   "source": [
    "import numpy as np\n",
    "np.mean(height)#mean"
   ]
  },
  {
   "cell_type": "code",
   "execution_count": 5,
   "id": "028c8cbd-12e8-4816-abef-c157e96f4623",
   "metadata": {},
   "outputs": [
    {
     "data": {
      "text/plain": [
       "177.0"
      ]
     },
     "execution_count": 5,
     "metadata": {},
     "output_type": "execute_result"
    }
   ],
   "source": [
    "np.median(height)"
   ]
  },
  {
   "cell_type": "code",
   "execution_count": 6,
   "id": "dfd74233-c997-454f-91c8-ad195e4676f8",
   "metadata": {},
   "outputs": [],
   "source": [
    "from scipy import stats"
   ]
  },
  {
   "cell_type": "code",
   "execution_count": 7,
   "id": "0973bd24-00d9-42b2-be43-0d43b9b8b377",
   "metadata": {},
   "outputs": [
    {
     "name": "stderr",
     "output_type": "stream",
     "text": [
      "/tmp/ipykernel_137/1690947930.py:1: FutureWarning: Unlike other reduction functions (e.g. `skew`, `kurtosis`), the default behavior of `mode` typically preserves the axis it acts along. In SciPy 1.11.0, this behavior will change: the default value of `keepdims` will become False, the `axis` over which the statistic is taken will be eliminated, and the value None will no longer be accepted. Set `keepdims` to True or False to avoid this warning.\n",
      "  stats.mode(height)\n"
     ]
    },
    {
     "data": {
      "text/plain": [
       "ModeResult(mode=array([177.]), count=array([3]))"
      ]
     },
     "execution_count": 7,
     "metadata": {},
     "output_type": "execute_result"
    }
   ],
   "source": [
    "stats.mode(height)"
   ]
  },
  {
   "cell_type": "markdown",
   "id": "99868eb2-76e2-4676-9384-0bf3cf312861",
   "metadata": {},
   "source": [
    "Q4. Find the standard deviation for the given data:\n",
    "    [178,177,176,177,178.2,178,175,179,180,175,178.9,176.2,177,172.5,178,176.5]"
   ]
  },
  {
   "cell_type": "code",
   "execution_count": 10,
   "id": "0a598992-4e0e-4f8c-8ad1-d34f67eb7117",
   "metadata": {},
   "outputs": [],
   "source": [
    "k=[178,177,176,177,178.2,178,175,179,180,175,178.9,176.2,177,172.5,178,176.5]"
   ]
  },
  {
   "cell_type": "code",
   "execution_count": 11,
   "id": "ac46aa2e-1d20-454c-b3d0-7fe0b799ac49",
   "metadata": {},
   "outputs": [],
   "source": [
    "import numpy as np"
   ]
  },
  {
   "cell_type": "code",
   "execution_count": 14,
   "id": "23e05bdb-e341-49f2-b43e-623089097610",
   "metadata": {},
   "outputs": [
    {
     "data": {
      "text/plain": [
       "1.7885814036548633"
      ]
     },
     "execution_count": 14,
     "metadata": {},
     "output_type": "execute_result"
    }
   ],
   "source": [
    "#std\n",
    "np.std(k)"
   ]
  },
  {
   "cell_type": "markdown",
   "id": "d80e06f5-9f00-4747-96ae-12f1dabb1551",
   "metadata": {},
   "source": [
    "Q5. How are measures of dispersion such as range, variance, and standard deviation used to describe\n",
    "the spread of a dataset? Provide an example."
   ]
  },
  {
   "cell_type": "markdown",
   "id": "cd12f57b-0e8d-4f0e-952e-eb808f82c7e5",
   "metadata": {},
   "source": [
    "Measures of dispersion, such as range, variance, and standard deviation, are used to describe the spread or variability of data within a dataset. They provide valuable insights into how much individual data points deviate from the central tendency measures (e.g., mean, median), helping us understand the degree of scatter or spread in the data. Here's how these measures are used:\n",
    "\n",
    "\n",
    "\n",
    "Range:\n",
    "\n",
    "The range is the simplest measure of dispersion and is calculated as the difference between the maximum and minimum values in a dataset.\n",
    "\n",
    "Formula: Range = Maximum Value - Minimum Value\n",
    "\n",
    "Example: Let's say you have a dataset of exam scores for a class of students, and the scores are as follows: [65, 72, 80, 89, 92]. The range would be: Range = 92 (maximum) - 65 (minimum) = 27. This tells you that the scores vary by 27 points from the lowest to the highest.\n",
    "\n",
    "\n",
    "Variance:\n",
    "\n",
    "Variance quantifies the average squared deviation of each data point from the mean. It gives more weight to larger deviations.\n",
    "\n",
    "Formula: Variance = Σ((xi - μ)^2) / (n - 1), where xi is each data point, μ is the mean, and n is the number of data points.\n",
    "\n",
    "Example: Consider a dataset of daily temperatures (in degrees Celsius) for a week: [20, 22, 19, 24, 21]. The mean temperature is 21.2°C. The variance would be calculated by finding the squared differences from the mean for each value, summing them, and dividing by (n-1). The variance is a measure of how much daily temperatures deviate from the weekly average.\n",
    "\n",
    "\n",
    "Standard Deviation:\n",
    "\n",
    "The standard deviation is the square root of the variance. It provides a more interpretable measure of the spread because it is in the same units as the data.\n",
    "\n",
    "Formula: Standard Deviation = √Variance\n",
    "\n",
    "Using the same example as above, if the variance of the daily temperatures is calculated to be 4.3 (square degrees Celsius), then the standard deviation is √4.3 ≈ 2.08°C. This tells you that, on average, daily temperatures deviate from the mean by about 2.08°C."
   ]
  },
  {
   "cell_type": "code",
   "execution_count": 15,
   "id": "8df43540-9b66-4e0a-a2f0-8f550204f800",
   "metadata": {},
   "outputs": [
    {
     "name": "stdout",
     "output_type": "stream",
     "text": [
      "75\n",
      "541.64\n",
      "23.273160507331188\n"
     ]
    }
   ],
   "source": [
    "ages_lst=[23,43,23,56,74,32,68,98,45,32]\n",
    "##range\n",
    "print(max(ages_lst)-min(ages_lst))\n",
    "import numpy as np\n",
    "## variance\n",
    "var=np.var(ages_lst)\n",
    "print(var)\n",
    "#std\n",
    "std=np.std(ages_lst)\n",
    "print(std)\n"
   ]
  },
  {
   "cell_type": "markdown",
   "id": "0b1748ce-ed02-4603-9313-d2080e2daeff",
   "metadata": {},
   "source": [
    "Q6. What is a Venn diagram?"
   ]
  },
  {
   "cell_type": "markdown",
   "id": "38cb2a0c-5dc4-4817-8d1b-7d656c724f9b",
   "metadata": {},
   "source": [
    "A Venn diagram is a graphical representation that uses overlapping circles or other shapes to illustrate the relationships between sets or groups of items. It is a useful tool for visualizing and understanding the similarities and differences between different categories or elements. Venn diagrams are often employed in mathematics, logic, statistics, and various fields to analyze and present data.\n",
    "\n",
    "Key characteristics of a Venn diagram:\n",
    "\n",
    "Sets or Categories: Venn diagrams typically represent sets or categories of items. Each circle or shape in the diagram represents a specific set, group, or category.\n",
    "\n",
    "Overlapping Regions: The overlapping regions of the circles show the elements that are common to more than one set. These areas highlight the intersections or shared characteristics between the sets.\n",
    "\n",
    "Non-overlapping Regions: The non-overlapping parts of the circles represent the elements that are unique to each set, i.e., the items that do not belong to any other set.\n",
    "\n",
    "Universal Set: In some cases, a rectangle or another shape encircles the entire diagram, representing the universal set from which the sets in the Venn diagram are drawn. This helps define the scope of the analysis.\n",
    "\n",
    "Venn diagrams can be used for various purposes, including:\n",
    "\n",
    "Analyzing the relationships between different groups or categories of data.\n",
    "Illustrating the concept of set theory, including union (combining sets), intersection (common elements), and complement (elements not in a set).\n",
    "Solving problems related to logic, probability, and statistics.\n",
    "Visualizing complex data comparisons and making them more understandable.\n",
    "Here's a simple example of a Venn diagram:\n",
    "\n",
    "Consider two sets:\n",
    "Set A: {Red, Green, Blue}\n",
    "Set B: {Blue, Yellow, Green}\n",
    "\n",
    "In a Venn diagram representing these sets, you would have two circles, one for Set A and one for Set B. The overlapping region would contain the elements that are in both sets (Green and Blue), and the non-overlapping regions would contain the unique elements of each set (Red in Set A, and Yellow in Set B). This visual representation helps clarify the relationship between the sets and the elements they share or don't share.\n",
    "\n",
    "\n",
    "\n",
    "\n"
   ]
  },
  {
   "cell_type": "markdown",
   "id": "491c01ff-17de-46f6-a26c-7f13d9b78d20",
   "metadata": {},
   "source": [
    "For the two given sets A = (2,3,4,5,6,7) & B = (0,2,6,8,10). Find:\n",
    "(i) A intersecation B\n",
    "(ii) A ⋃ B"
   ]
  },
  {
   "cell_type": "markdown",
   "id": "708c5410-8b44-4b47-9cb3-c1d2a0ffcafe",
   "metadata": {},
   "source": [
    "(i) A ∩ B (Intersection of A and B):\n",
    "The intersection of two sets A and B consists of all elements that are common to both sets. In this case, the common elements between A and B are 2 and 6.\n",
    "\n",
    "A ∩ B = {2, 6}\n",
    "\n",
    "(ii) A ∪ B (Union of A and B):\n",
    "The union of two sets A and B includes all unique elements from both sets. You combine the elements from both sets while removing any duplicates.\n",
    "\n",
    "A ∪ B = {0, 2, 3, 4, 5, 6, 7, 8, 10}\n",
    "\n"
   ]
  },
  {
   "cell_type": "markdown",
   "id": "4d156f98-a547-44cc-9be4-256dca8f3ff9",
   "metadata": {},
   "source": [
    "Q8. What do you understand about skewness in data?"
   ]
  },
  {
   "cell_type": "markdown",
   "id": "94e9a84d-535f-4dac-906d-d91bc63e8e25",
   "metadata": {},
   "source": [
    "Skewness is a statistical measure that describes the asymmetry or lack of symmetry in the distribution of data. In other words, it quantifies the degree to which a dataset's values are skewed or biased toward one end of the data's range. Skewness is an essential concept in descriptive statistics and data analysis, as it helps us understand the shape and characteristics of a data distribution. There are three main types of skewness:\n",
    "\n",
    "Positive Skew (Right Skew):\n",
    "\n",
    "In a positively skewed distribution, the tail on the right side (the upper tail) is longer or fatter than the left tail (the lower tail).\n",
    "The majority of the data points are concentrated on the left side, with a few larger values extending the right tail.\n",
    "The mean is typically greater than the median in positively skewed data because the larger values in the right tail pull the mean in that direction.\n",
    "Positive skewness often occurs in financial data, where losses are limited (left side) but gains can be substantial (right side).\n",
    "\n",
    "Negative Skew (Left Skew):\n",
    "\n",
    "In a negatively skewed distribution, the tail on the left side (the lower tail) is longer or fatter than the right tail (the upper tail).\n",
    "Most data points are clustered on the right side of the distribution, with a few smaller values extending the left tail.\n",
    "The mean is typically less than the median in negatively skewed data because the smaller values on the left side pull the mean in that direction.\n",
    "Negative skewness can be observed in data like income distributions, where a few individuals have exceptionally high incomes, causing the tail to extend to the left.\n",
    "Symmetric (Zero Skew):\n",
    "\n",
    "In a symmetric distribution, data is evenly distributed on both sides of the mean, and there is no skewness. The left and right tails are of equal length.\n",
    "The mean and median are equal in symmetric distributions.\n",
    "Examples of symmetric distributions include the normal distribution (bell-shaped curve) and many well-behaved random processes.\n"
   ]
  },
  {
   "cell_type": "markdown",
   "id": "00a604cb-484a-4d9f-ba2f-b4fa8c5248e1",
   "metadata": {},
   "source": [
    "Q9. If a data is right skewed then what will be the position of median with respect to mean?"
   ]
  },
  {
   "cell_type": "markdown",
   "id": "982852d9-e835-40f2-a3df-7888c810eb99",
   "metadata": {},
   "source": [
    "In a right-skewed (positively skewed) data distribution, the position of the median with respect to the mean is as follows:\n",
    "\n",
    "Mean: The mean is typically greater than the median in a right-skewed distribution. This is because the skewness is pulling the tail of the distribution to the right (toward higher values), which results in a few larger values on the right side of the median, pulling the mean in the same direction.\n",
    "\n",
    "Median: The median, on the other hand, is less affected by extreme values in the tail of the distribution. It represents the middle value when the data is sorted in ascending or descending order. In a right-skewed distribution, the median tends to be closer to the left (lower) end of the distribution, where the bulk of the data points are concentrated.\n",
    "\n",
    "So, in summary:\n",
    "\n",
    "Mean > Median in a right-skewed distribution."
   ]
  },
  {
   "cell_type": "markdown",
   "id": "2e0e71c8-88cd-4826-b1d2-5dd75a139f92",
   "metadata": {},
   "source": [
    "Q10. Explain the difference between covariance and correlation. How are these measures used in\n",
    "statistical analysis?"
   ]
  },
  {
   "cell_type": "markdown",
   "id": "834dbd8f-444a-4451-ace7-9d7b7413597b",
   "metadata": {},
   "source": [
    "Covariance:\n",
    "\n",
    "Covariance measures the degree to which two variables change together. In other words, it indicates whether there is a linear relationship between two variables and whether they tend to increase or decrease in value together.\n",
    "Formula for the sample covariance between two variables X and Y:\n",
    "Cov(X, Y) = Σ((Xᵢ - X̄)(Yᵢ - Ȳ)) / (n - 1), where Xᵢ and Yᵢ are individual data points, X̄ and Ȳ are the sample means of X and Y, and n is the number of data points.\n",
    "Scale: Covariance can take on any value, positive, negative, or zero. The magnitude of covariance is not standardized and depends on the units of the variables being measured. Therefore, it is difficult to interpret covariance values on their own.\n",
    "\n",
    "\n",
    "Correlation:\n",
    "\n",
    "Correlation, specifically Pearson correlation, measures the strength and direction of the linear relationship between two variables while standardizing the values. It provides a value between -1 and 1, where:\n",
    "1 indicates a perfect positive linear relationship.\n",
    "-1 indicates a perfect negative (inverse) linear relationship.\n",
    "0 indicates no linear relationship.\n",
    "Formula for the sample Pearson correlation coefficient (r) between two variables X and Y:\n",
    "r = Σ((Xᵢ - X̄)(Yᵢ - Ȳ)) / [(Σ(Xᵢ - X̄)² * Σ(Yᵢ - Ȳ)²)^(1/2)], where Xᵢ and Yᵢ are individual data points, X̄ and Ȳ are the sample means of X and Y, and the denominator involves the product of the standard deviations of X and Y.\n",
    "Scale: Correlation coefficients range from -1 to 1, with 0 indicating no linear relationship. A positive correlation coefficient indicates a positive linear relationship, and a negative coefficient indicates a negative linear relationship.\n",
    "How they are used in statistical analysis:\n",
    "\n",
    "Covariance is used to determine whether two variables tend to move in the same direction (positive covariance) or in opposite directions (negative covariance). However, the magnitude of covariance alone is not easily interpretable, especially when comparing different datasets or variables with different units of measurement.\n",
    "\n",
    "Correlation is used to quantify the strength and direction of the linear relationship between two variables in a standardized way. It provides a clear measure of how well the variables are related on a scale from -1 (perfect negative correlation) to 1 (perfect positive correlation). Correlation is a more commonly used measure because it allows for easier comparison between different datasets and variables.\n",
    "\n"
   ]
  },
  {
   "cell_type": "markdown",
   "id": "e93ab5a0-753f-4fba-a671-186ce3e91be6",
   "metadata": {},
   "source": [
    "Q11. What is the formula for calculating the sample mean? Provide an example calculation for a\n",
    "dataset.\n"
   ]
  },
  {
   "cell_type": "code",
   "execution_count": null,
   "id": "c1c5a28e-8fe2-476a-afd7-1da5eafba452",
   "metadata": {},
   "outputs": [],
   "source": [
    "The formula for calculating the sample mean (average) is as follows:\n",
    "\n",
    "Sample Mean (x̄) = (Sum of all data points) / (Number of data points)\n",
    "\n"
   ]
  },
  {
   "cell_type": "code",
   "execution_count": null,
   "id": "6111571a-47a1-4af8-96eb-9ce8cc324402",
   "metadata": {},
   "outputs": [],
   "source": [
    "Suppose you have the following dataset representing the scores of 5 students on a test:\n",
    "\n",
    "Dataset: [85, 92, 78, 88, 95]\n",
    "\n",
    "To calculate the sample mean:\n",
    "\n",
    "Add up all the values in the dataset:\n",
    "85 + 92 + 78 + 88 + 95 = 438\n",
    "\n",
    "Determine the number of data points in the dataset, which is 5 in this case.\n",
    "\n",
    "Use the formula to calculate the sample mean:\n",
    "Sample Mean (x̄) = 438 / 5 = 87.6"
   ]
  },
  {
   "cell_type": "code",
   "execution_count": 28,
   "id": "00392c60-ac7f-46bf-a7e7-38d5acf2a032",
   "metadata": {},
   "outputs": [
    {
     "ename": "TypeError",
     "evalue": "'int' object is not callable",
     "output_type": "error",
     "traceback": [
      "\u001b[0;31m---------------------------------------------------------------------------\u001b[0m",
      "\u001b[0;31mTypeError\u001b[0m                                 Traceback (most recent call last)",
      "Cell \u001b[0;32mIn[28], line 2\u001b[0m\n\u001b[1;32m      1\u001b[0m x\u001b[38;5;241m=\u001b[39m[\u001b[38;5;241m85\u001b[39m, \u001b[38;5;241m92\u001b[39m, \u001b[38;5;241m78\u001b[39m, \u001b[38;5;241m88\u001b[39m, \u001b[38;5;241m95\u001b[39m]\n\u001b[0;32m----> 2\u001b[0m \u001b[38;5;28;43msum\u001b[39;49m\u001b[43m(\u001b[49m\u001b[43mx\u001b[49m\u001b[43m)\u001b[49m\n\u001b[1;32m      3\u001b[0m smaple_mean\u001b[38;5;241m=\u001b[39m\u001b[38;5;28msum\u001b[39m\u001b[38;5;241m/\u001b[39m\u001b[38;5;28mlen\u001b[39m(x)\n\u001b[1;32m      4\u001b[0m \u001b[38;5;28mprint\u001b[39m(sample_mean)\n",
      "\u001b[0;31mTypeError\u001b[0m: 'int' object is not callable"
     ]
    }
   ],
   "source": [
    "x=[85, 92, 78, 88, 95]\n",
    "sum(x)\n",
    "smaple_mean=sum/len(x)\n",
    "print(sample_mean)"
   ]
  },
  {
   "cell_type": "code",
   "execution_count": 28,
   "id": "7d8ae7ac-6790-4abe-a647-8cdf04a71cfa",
   "metadata": {},
   "outputs": [
    {
     "ename": "TypeError",
     "evalue": "'int' object is not callable",
     "output_type": "error",
     "traceback": [
      "\u001b[0;31m---------------------------------------------------------------------------\u001b[0m",
      "\u001b[0;31mTypeError\u001b[0m                                 Traceback (most recent call last)",
      "Cell \u001b[0;32mIn[28], line 2\u001b[0m\n\u001b[1;32m      1\u001b[0m x\u001b[38;5;241m=\u001b[39m[\u001b[38;5;241m85\u001b[39m, \u001b[38;5;241m92\u001b[39m, \u001b[38;5;241m78\u001b[39m, \u001b[38;5;241m88\u001b[39m, \u001b[38;5;241m95\u001b[39m]\n\u001b[0;32m----> 2\u001b[0m \u001b[38;5;28;43msum\u001b[39;49m\u001b[43m(\u001b[49m\u001b[43mx\u001b[49m\u001b[43m)\u001b[49m\n\u001b[1;32m      3\u001b[0m smaple_mean\u001b[38;5;241m=\u001b[39m\u001b[38;5;28msum\u001b[39m\u001b[38;5;241m/\u001b[39m\u001b[38;5;28mlen\u001b[39m(x)\n\u001b[1;32m      4\u001b[0m \u001b[38;5;28mprint\u001b[39m(sample_mean)\n",
      "\u001b[0;31mTypeError\u001b[0m: 'int' object is not callable"
     ]
    }
   ],
   "source": [
    "x=[85, 92, 78, 88, 95]\n",
    "sum(x)\n",
    "smaple_mean=sum/len(x)\n",
    "print(sample_mean)"
   ]
  },
  {
   "cell_type": "markdown",
   "id": "f270defd-fe93-4634-9bf5-be0037c619fd",
   "metadata": {},
   "source": [
    "Q12. For a normal distribution data what is the relationship between its measure of central tendency?\n"
   ]
  },
  {
   "cell_type": "markdown",
   "id": "34c40cfe-7d74-412a-942c-51619eef1333",
   "metadata": {},
   "source": [
    "In a normal distribution, there is a specific relationship between its measures of central tendency, namely the mean, median, and mode. This relationship is a key characteristic of the normal distribution and can be summarized as follows:\n",
    "\n",
    "Mean (μ): In a normal distribution, the mean (μ) is located at the center of the distribution. It is equal to the median and the mode. This means that the peak of the distribution (the mode), the center of the distribution (the median), and the arithmetic average of the data (the mean) all coincide at the same point.\n",
    "\n",
    "Median: As mentioned earlier, in a normal distribution, the median is equal to the mean and the mode. This is a result of the symmetric and bell-shaped nature of the normal distribution. The median represents the 50th percentile of the data, which is also the location of the peak of the distribution.\n",
    "\n",
    "Mode: In a normal distribution, the mode is also equal to the mean and median. This is because the normal distribution is unimodal, meaning it has a single peak (mode) at the center. The mode represents the most frequently occurring value, and in a normal distribution, this is the same as the mean and median.\n",
    "\n",
    "In summary, for a normal distribution:\n",
    "\n",
    "Mean (μ) = Median = Mode\n"
   ]
  },
  {
   "cell_type": "markdown",
   "id": "6ab4fe67-a2a9-4c1a-837c-e593f35b2907",
   "metadata": {},
   "source": [
    "Q13. How is covariance different from correlation?"
   ]
  },
  {
   "cell_type": "markdown",
   "id": "3c728cb8-0882-4431-ac8a-8b9dd39c72c5",
   "metadata": {},
   "source": [
    "Covariance and correlation are two related but distinct statistical measures used to quantify the relationship between two variables. Here are the key differences between covariance and correlation:\n",
    "\n",
    "Definition:\n",
    "\n",
    "Covariance: Covariance measures the degree to which two variables change together. It indicates whether there is a linear relationship between two variables and whether they tend to increase or decrease in value together. The formula for the sample covariance between two variables X and Y is:\n",
    "\n",
    "�\n",
    "�\n",
    "�\n",
    "(\n",
    "�\n",
    ",\n",
    "�\n",
    ")\n",
    "=\n",
    "∑\n",
    "(\n",
    "�\n",
    "�\n",
    "−\n",
    "�\n",
    "ˉ\n",
    ")\n",
    "(\n",
    "�\n",
    "�\n",
    "−\n",
    "�\n",
    "ˉ\n",
    ")\n",
    "�\n",
    "−\n",
    "1\n",
    ",\n",
    "Cov(X,Y)= \n",
    "n−1\n",
    "∑(X \n",
    "i\n",
    "​\n",
    " − \n",
    "X\n",
    "ˉ\n",
    " )(Y \n",
    "i\n",
    "​\n",
    " − \n",
    "Y\n",
    "ˉ\n",
    " )\n",
    "​\n",
    " ,\n",
    "\n",
    "where \n",
    "�\n",
    "�\n",
    "X \n",
    "i\n",
    "​\n",
    "  and \n",
    "�\n",
    "�\n",
    "Y \n",
    "i\n",
    "​\n",
    "  are individual data points, \n",
    "�\n",
    "ˉ\n",
    "X\n",
    "ˉ\n",
    "  and \n",
    "�\n",
    "ˉ\n",
    "Y\n",
    "ˉ\n",
    "  are the sample means of X and Y, and n is the number of data points.\n",
    "\n",
    "Correlation: Correlation, specifically Pearson correlation, measures the strength and direction of the linear relationship between two variables while standardizing the values. It provides a value between -1 and 1, where -1 indicates a perfect negative (inverse) linear relationship, 1 indicates a perfect positive linear relationship, and 0 indicates no linear relationship. The formula for the sample Pearson correlation coefficient (r) between two variables X and Y is:\n",
    "\n",
    "�\n",
    "=\n",
    "∑\n",
    "(\n",
    "�\n",
    "�\n",
    "−\n",
    "�\n",
    "ˉ\n",
    ")\n",
    "(\n",
    "�\n",
    "�\n",
    "−\n",
    "�\n",
    "ˉ\n",
    ")\n",
    "∑\n",
    "(\n",
    "�\n",
    "�\n",
    "−\n",
    "�\n",
    "ˉ\n",
    ")\n",
    "2\n",
    "∑\n",
    "(\n",
    "�\n",
    "�\n",
    "−\n",
    "�\n",
    "ˉ\n",
    ")\n",
    "2\n",
    ",\n",
    "r= \n",
    "∑(X \n",
    "i\n",
    "​\n",
    " − \n",
    "X\n",
    "ˉ\n",
    " ) \n",
    "2\n",
    " ∑(Y \n",
    "i\n",
    "​\n",
    " − \n",
    "Y\n",
    "ˉ\n",
    " ) \n",
    "2\n",
    " \n",
    "​\n",
    " \n",
    "∑(X \n",
    "i\n",
    "​\n",
    " − \n",
    "X\n",
    "ˉ\n",
    " )(Y \n",
    "i\n",
    "​\n",
    " − \n",
    "Y\n",
    "ˉ\n",
    " )\n",
    "​\n",
    " ,\n",
    "\n",
    "where \n",
    "�\n",
    "�\n",
    "X \n",
    "i\n",
    "​\n",
    "  and \n",
    "�\n",
    "�\n",
    "Y \n",
    "i\n",
    "​\n",
    "  are individual data points, \n",
    "�\n",
    "ˉ\n",
    "X\n",
    "ˉ\n",
    "  and \n",
    "�\n",
    "ˉ\n",
    "Y\n",
    "ˉ\n",
    "  are the sample means of X and Y, and the denominator involves the product of the standard deviations of X and Y.\n",
    "\n",
    "Scale:\n",
    "\n",
    "Covariance: Covariance can take on any value, positive, negative, or zero. The magnitude of covariance is not standardized and depends on the units of the variables being measured. Therefore, it is difficult to interpret covariance values on their own, especially when comparing different datasets or variables with different units.\n",
    "\n",
    "Correlation: Correlation coefficients range from -1 to 1, with 0 indicating no linear relationship. The standardized scale of correlation makes it easier to compare and interpret the strength and direction of the relationship between variables. A positive correlation coefficient indicates a positive linear relationship, and a negative coefficient indicates a negative linear relationship.\n",
    "\n",
    "Interpretation:\n",
    "\n",
    "Covariance: Covariance alone does not provide a clear measure of the strength or direction of the relationship between variables. It simply indicates whether the variables tend to move in the same (positive covariance) or opposite (negative covariance) directions.\n",
    "\n",
    "Correlation: Correlation provides a standardized measure that not only indicates the presence of a linear relationship but also quantifies its strength and direction. A correlation coefficient of 1 or -1 indicates a perfect linear relationship, while a coefficient of 0 indicates no linear relationship.\n",
    "\n",
    "In summary, covariance and correlation both assess the relationship between two variables, but correlation is more commonly used in statistical analysis due to its standardized scale and interpretability, making it easier to draw meaningful conclusions about the strength and direction of the relationship between variables. Covariance, on the other hand, lacks standardization and is primarily used as an intermediate step in calculating correlation coefficients.\n",
    "\n",
    "\n",
    "\n",
    "\n"
   ]
  },
  {
   "cell_type": "markdown",
   "id": "c2ea04e1-bcb4-4061-b413-87a118b02c6a",
   "metadata": {},
   "source": [
    "Q14. How do outliers affect measures of central tendency and dispersion? Provide an example."
   ]
  },
  {
   "cell_type": "markdown",
   "id": "72ef4d7f-c644-4dfb-9616-ade6c7d88413",
   "metadata": {},
   "source": [
    "Outliers can have a significant impact on measures of central tendency and dispersion in a dataset. Here's how outliers affect these measures, along with an example:\n",
    "\n",
    "Measures of Central Tendency (Mean, Median, Mode):\n",
    "\n",
    "Mean: Outliers can substantially influence the mean. If there are extreme values in the dataset, the mean can be pulled in the direction of the outliers. This means that the mean becomes less representative of the central value of the majority of the data.\n",
    "\n",
    "Median: The median is less affected by outliers than the mean. It represents the middle value when the data is sorted, so extreme values at the tails of the dataset have little impact on it.\n",
    "\n",
    "Mode: Outliers typically have little effect on the mode, as it represents the most frequently occurring value in the dataset. Unless the outliers themselves become the mode, they usually don't impact it.\n",
    "\n",
    "Example:\n",
    "Consider a dataset representing the salaries (in thousands of dollars) of a group of employees in a small company:\n",
    "\n",
    "Dataset: [35, 38, 40, 42, 45, 47, 50, 53, 200]\n",
    "\n",
    "Mean without the outlier: (35 + 38 + 40 + 42 + 45 + 47 + 50 + 53) / 8 = 44.375\n",
    "Mean with the outlier: (35 + 38 + 40 + 42 + 45 + 47 + 50 + 53 + 200) / 9 = 64.22\n",
    "As you can see, the presence of the outlier (200) significantly increases the mean salary.\n",
    "\n",
    "Median without the outlier: 45 (the middle value in the sorted dataset)\n",
    "Median with the outlier: 47 (still the same as it represents the middle value)\n",
    "The median remains relatively stable in the presence of the outlier.\n",
    "\n",
    "Mode: The mode in both cases is unaffected because 47 is still the most frequently occurring value.\n",
    "Measures of Dispersion (Range, Variance, Standard Deviation):\n",
    "\n",
    "Range: Outliers can greatly influence the range, as it is determined by the difference between the maximum and minimum values. If there are extreme outliers, the range can become disproportionately large.\n",
    "\n",
    "Variance and Standard Deviation: These measures are influenced by the squared differences between data points and the mean. Extreme outliers can lead to a significant increase in variance and standard deviation, as they result in large squared differences.\n",
    "\n",
    "Example:\n",
    "Continuing with the previous dataset:\n",
    "\n",
    "Range without the outlier: 53 - 35 = 18\n",
    "Range with the outlier: 200 - 35 = 165\n",
    "The presence of the outlier significantly increases the range.\n",
    "\n",
    "Variance without the outlier: 36.67 (rounded to two decimal places)\n",
    "Variance with the outlier: 2710.89\n",
    "The variance increases substantially due to the outlier.\n",
    "\n",
    "Standard Deviation without the outlier: 6.06 (rounded to two decimal places)\n",
    "Standard Deviation with the outlier: 52.01\n",
    "The standard deviation also increases significantly due to the outlier.\n",
    "\n",
    "In summary, outliers can distort both measures of central tendency (mean, median, mode) and measures of dispersion (range, variance, standard deviation), making it important to be aware of their presence and their potential impact on statistical analysis. In many cases, it's advisable to consider robust statistics or outlier detection techniques to mitigate the influence of outliers on your analysis.\n",
    "\n",
    "\n",
    "\n",
    "\n",
    "User\n",
    "Q14. How do outliers affect measures of central tendency and dispersion? Provide an example.\n",
    "\n",
    "ChatGPT\n",
    "Outliers can have a significant impact on measures of central tendency and dispersion in a dataset. Here's how outliers affect these measures, along with an example:\n",
    "\n",
    "Measures of Central Tendency (Mean, Median, Mode):\n",
    "\n",
    "Mean: Outliers can substantially influence the mean. If there are extreme values in the dataset, the mean can be pulled in the direction of the outliers. This means that the mean becomes less representative of the central value of the majority of the data.\n",
    "\n",
    "Median: The median is less affected by outliers than the mean. It represents the middle value when the data is sorted, so extreme values at the tails of the dataset have little impact on it.\n",
    "\n",
    "Mode: Outliers typically have little effect on the mode, as it represents the most frequently occurring value in the dataset. Unless the outliers themselves become the mode, they usually don't impact it.\n",
    "\n",
    "Example:\n",
    "Consider a dataset representing the salaries (in thousands of dollars) of a group of employees in a small company:\n",
    "\n",
    "Dataset: [35, 38, 40, 42, 45, 47, 50, 53, 200]\n",
    "\n",
    "Mean without the outlier: (35 + 38 + 40 + 42 + 45 + 47 + 50 + 53) / 8 = 44.375\n",
    "Mean with the outlier: (35 + 38 + 40 + 42 + 45 + 47 + 50 + 53 + 200) / 9 = 64.22\n",
    "As you can see, the presence of the outlier (200) significantly increases the mean salary.\n",
    "\n",
    "Median without the outlier: 45 (the middle value in the sorted dataset)\n",
    "Median with the outlier: 47 (still the same as it represents the middle value)\n",
    "The median remains relatively stable in the presence of the outlier.\n",
    "\n",
    "Mode: The mode in both cases is unaffected because 47 is still the most frequently occurring value.\n",
    "Measures of Dispersion (Range, Variance, Standard Deviation):\n",
    "\n",
    "Range: Outliers can greatly influence the range, as it is determined by the difference between the maximum and minimum values. If there are extreme outliers, the range can become disproportionately large.\n",
    "\n",
    "Variance and Standard Deviation: These measures are influenced by the squared differences between data points and the mean. Extreme outliers can lead to a significant increase in variance and standard deviation, as they result in large squared differences.\n",
    "\n",
    "Example:\n",
    "Continuing with the previous dataset:\n",
    "\n",
    "Range without the outlier: 53 - 35 = 18\n",
    "Range with the outlier: 200 - 35 = 165\n",
    "The presence of the outlier significantly increases the range.\n",
    "\n",
    "Variance without the outlier: 36.67 (rounded to two decimal places)\n",
    "Variance with the outlier: 2710.89\n",
    "The variance increases substantially due to the outlier.\n",
    "\n",
    "Standard Deviation without the outlier: 6.06 (rounded to two decimal places)\n",
    "Standard Deviation with the outlier: 52.01\n",
    "The standard deviation also increases significantly due to the outlier.\n",
    "\n",
    "In summary, outliers can distort both measures of central tendency (mean, median, mode) and measures of dispersion (range, variance, standard deviation), making it important to be aware of their presence and their potential impact on statistical analysis. In many cases, it's advisable to consider robust statistics or outlier detection techniques to mitigate the influence of outliers on your analysis.\n",
    "\n",
    "\n",
    "\n",
    "\n"
   ]
  },
  {
   "cell_type": "code",
   "execution_count": null,
   "id": "e3e11000-857a-461c-99db-fe287d5ce338",
   "metadata": {},
   "outputs": [],
   "source": []
  }
 ],
 "metadata": {
  "kernelspec": {
   "display_name": "Python 3 (ipykernel)",
   "language": "python",
   "name": "python3"
  },
  "language_info": {
   "codemirror_mode": {
    "name": "ipython",
    "version": 3
   },
   "file_extension": ".py",
   "mimetype": "text/x-python",
   "name": "python",
   "nbconvert_exporter": "python",
   "pygments_lexer": "ipython3",
   "version": "3.10.8"
  }
 },
 "nbformat": 4,
 "nbformat_minor": 5
}
